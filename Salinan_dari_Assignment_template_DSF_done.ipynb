{
  "cells": [
    {
      "cell_type": "markdown",
      "metadata": {
        "id": "gQSK7iZOyYjl"
      },
      "source": [
        "### Arahan Assignment\n",
        "0. Gunakan dataset student score\n",
        "1. Lakukan proses Exploratory data analysis\n",{
  "cells": [
    {
      "cell_type": "markdown",
      "metadata": {
        "id": "gQSK7iZOyYjl"
      },
      "source": [
        "### Arahan Assignment\n",
        "0. Gunakan dataset student score\n",
        "1. Lakukan proses Exploratory data analysis\n",
        "2. Lakukan feature engineering :\n",
        "- Check Duplicated Data\n",
        "- Check Missing Value Handling\n",
        "- Outlier Analysis\n",
        "3. Lakukan modelling machine learning regression : gunakan minimal 2 model (linear regression, decision tree regressor, atau random forest regressor)\n",
        "4. Lakukan evaluasi model\n",
        "5. Berikan kesimpulan model mana yang terbaik performanya"
      ]
    },
    {
      "cell_type": "code",
      "execution_count": null,
      "metadata": {
        "id": "5N-ANQk2yXtK"
      },
      "outputs": [],
      "source": [
        "# Import libraries and resources\n",
        "import pandas as pd\n",
        "import numpy as np\n",
        "import matplotlib\n",
        "import matplotlib.pyplot as plt\n",
        "import seaborn as sns"
      ]
    },
    {
      "cell_type": "code",
      "source": [
        "dataset = pd.read_csv('sample_data/student_scores.csv')\n",
        "dataset.head()\n",
        "dataset.info()\n",
        "dataset.describe()"
      ],
      "metadata": {
        "colab": {
          "base_uri": "https://localhost:8080/",
          "height": 456
        },
        "collapsed": true,
        "id": "rKii0k6q78tY",
        "outputId": "f694f63a-991b-49f6-e673-a281e317327e"
      },
      "execution_count": null,
      "outputs": [
        {
          "output_type": "stream",
          "name": "stdout",
          "text": [
            "<class 'pandas.core.frame.DataFrame'>\n",
            "RangeIndex: 25 entries, 0 to 24\n",
            "Data columns (total 2 columns):\n",
            " #   Column  Non-Null Count  Dtype  \n",
            "---  ------  --------------  -----  \n",
            " 0   Hours   25 non-null     float64\n",
            " 1   Scores  25 non-null     int64  \n",
            "dtypes: float64(1), int64(1)\n",
            "memory usage: 532.0 bytes\n"
          ]
        },
        {
          "output_type": "execute_result",
          "data": {
            "text/plain": [
              "           Hours     Scores\n",
              "count  25.000000  25.000000\n",
              "mean    5.012000  51.480000\n",
              "std     2.525094  25.286887\n",
              "min     1.100000  17.000000\n",
              "25%     2.700000  30.000000\n",
              "50%     4.800000  47.000000\n",
              "75%     7.400000  75.000000\n",
              "max     9.200000  95.000000"
            ],
            "text/html": [
              "\n",
              "  <div id=\"df-d793a93f-c20f-4da6-aedd-22877f20135d\" class=\"colab-df-container\">\n",
              "    <div>\n",
              "<style scoped>\n",
              "    .dataframe tbody tr th:only-of-type {\n",
              "        vertical-align: middle;\n",
              "    }\n",
              "\n",
              "    .dataframe tbody tr th {\n",
              "        vertical-align: top;\n",
              "    }\n",
              "\n",
              "    .dataframe thead th {\n",
              "        text-align: right;\n",
              "    }\n",
              "</style>\n",
              "<table border=\"1\" class=\"dataframe\">\n",
              "  <thead>\n",
              "    <tr style=\"text-align: right;\">\n",
              "      <th></th>\n",
              "      <th>Hours</th>\n",
              "      <th>Scores</th>\n",
              "    </tr>\n",
              "  </thead>\n",
              "  <tbody>\n",
              "    <tr>\n",
              "      <th>count</th>\n",
              "      <td>25.000000</td>\n",
              "      <td>25.000000</td>\n",
              "    </tr>\n",
              "    <tr>\n",
              "      <th>mean</th>\n",
              "      <td>5.012000</td>\n",
              "      <td>51.480000</td>\n",
              "    </tr>\n",
              "    <tr>\n",
              "      <th>std</th>\n",
              "      <td>2.525094</td>\n",
              "      <td>25.286887</td>\n",
              "    </tr>\n",
              "    <tr>\n",
              "      <th>min</th>\n",
              "      <td>1.100000</td>\n",
              "      <td>17.000000</td>\n",
              "    </tr>\n",
              "    <tr>\n",
              "      <th>25%</th>\n",
              "      <td>2.700000</td>\n",
              "      <td>30.000000</td>\n",
              "    </tr>\n",
              "    <tr>\n",
              "      <th>50%</th>\n",
              "      <td>4.800000</td>\n",
              "      <td>47.000000</td>\n",
              "    </tr>\n",
              "    <tr>\n",
              "      <th>75%</th>\n",
              "      <td>7.400000</td>\n",
              "      <td>75.000000</td>\n",
              "    </tr>\n",
              "    <tr>\n",
              "      <th>max</th>\n",
              "      <td>9.200000</td>\n",
              "      <td>95.000000</td>\n",
              "    </tr>\n",
              "  </tbody>\n",
              "</table>\n",
              "</div>\n",
              "    <div class=\"colab-df-buttons\">\n",
              "\n",
              "  <div class=\"colab-df-container\">\n",
              "    <button class=\"colab-df-convert\" onclick=\"convertToInteractive('df-d793a93f-c20f-4da6-aedd-22877f20135d')\"\n",
              "            title=\"Convert this dataframe to an interactive table.\"\n",
              "            style=\"display:none;\">\n",
              "\n",
              "  <svg xmlns=\"http://www.w3.org/2000/svg\" height=\"24px\" viewBox=\"0 -960 960 960\">\n",
              "    <path d=\"M120-120v-720h720v720H120Zm60-500h600v-160H180v160Zm220 220h160v-160H400v160Zm0 220h160v-160H400v160ZM180-400h160v-160H180v160Zm440 0h160v-160H620v160ZM180-180h160v-160H180v160Zm440 0h160v-160H620v160Z\"/>\n",
              "  </svg>\n",
              "    </button>\n",
              "\n",
              "  <style>\n",
              "    .colab-df-container {\n",
              "      display:flex;\n",
              "      gap: 12px;\n",
              "    }\n",
              "\n",
              "    .colab-df-convert {\n",
              "      background-color: #E8F0FE;\n",
              "      border: none;\n",
              "      border-radius: 50%;\n",
              "      cursor: pointer;\n",
              "      display: none;\n",
              "      fill: #1967D2;\n",
              "      height: 32px;\n",
              "      padding: 0 0 0 0;\n",
              "      width: 32px;\n",
              "    }\n",
              "\n",
              "    .colab-df-convert:hover {\n",
              "      background-color: #E2EBFA;\n",
              "      box-shadow: 0px 1px 2px rgba(60, 64, 67, 0.3), 0px 1px 3px 1px rgba(60, 64, 67, 0.15);\n",
              "      fill: #174EA6;\n",
              "    }\n",
              "\n",
              "    .colab-df-buttons div {\n",
              "      margin-bottom: 4px;\n",
              "    }\n",
              "\n",
              "    [theme=dark] .colab-df-convert {\n",
              "      background-color: #3B4455;\n",
              "      fill: #D2E3FC;\n",
              "    }\n",
              "\n",
              "    [theme=dark] .colab-df-convert:hover {\n",
              "      background-color: #434B5C;\n",
              "      box-shadow: 0px 1px 3px 1px rgba(0, 0, 0, 0.15);\n",
              "      filter: drop-shadow(0px 1px 2px rgba(0, 0, 0, 0.3));\n",
              "      fill: #FFFFFF;\n",
              "    }\n",
              "  </style>\n",
              "\n",
              "    <script>\n",
              "      const buttonEl =\n",
              "        document.querySelector('#df-d793a93f-c20f-4da6-aedd-22877f20135d button.colab-df-convert');\n",
              "      buttonEl.style.display =\n",
              "        google.colab.kernel.accessAllowed ? 'block' : 'none';\n",
              "\n",
              "      async function convertToInteractive(key) {\n",
              "        const element = document.querySelector('#df-d793a93f-c20f-4da6-aedd-22877f20135d');\n",
              "        const dataTable =\n",
              "          await google.colab.kernel.invokeFunction('convertToInteractive',\n",
              "                                                    [key], {});\n",
              "        if (!dataTable) return;\n",
              "\n",
              "        const docLinkHtml = 'Like what you see? Visit the ' +\n",
              "          '<a target=\"_blank\" href=https://colab.research.google.com/notebooks/data_table.ipynb>data table notebook</a>'\n",
              "          + ' to learn more about interactive tables.';\n",
              "        element.innerHTML = '';\n",
              "        dataTable['output_type'] = 'display_data';\n",
              "        await google.colab.output.renderOutput(dataTable, element);\n",
              "        const docLink = document.createElement('div');\n",
              "        docLink.innerHTML = docLinkHtml;\n",
              "        element.appendChild(docLink);\n",
              "      }\n",
              "    </script>\n",
              "  </div>\n",
              "\n",
              "\n",
              "<div id=\"df-e43d227d-a7e5-4f0f-950a-dc69cb8853ff\">\n",
              "  <button class=\"colab-df-quickchart\" onclick=\"quickchart('df-e43d227d-a7e5-4f0f-950a-dc69cb8853ff')\"\n",
              "            title=\"Suggest charts\"\n",
              "            style=\"display:none;\">\n",
              "\n",
              "<svg xmlns=\"http://www.w3.org/2000/svg\" height=\"24px\"viewBox=\"0 0 24 24\"\n",
              "     width=\"24px\">\n",
              "    <g>\n",
              "        <path d=\"M19 3H5c-1.1 0-2 .9-2 2v14c0 1.1.9 2 2 2h14c1.1 0 2-.9 2-2V5c0-1.1-.9-2-2-2zM9 17H7v-7h2v7zm4 0h-2V7h2v10zm4 0h-2v-4h2v4z\"/>\n",
              "    </g>\n",
              "</svg>\n",
              "  </button>\n",
              "\n",
              "<style>\n",
              "  .colab-df-quickchart {\n",
              "      --bg-color: #E8F0FE;\n",
              "      --fill-color: #1967D2;\n",
              "      --hover-bg-color: #E2EBFA;\n",
              "      --hover-fill-color: #174EA6;\n",
              "      --disabled-fill-color: #AAA;\n",
              "      --disabled-bg-color: #DDD;\n",
              "  }\n",
              "\n",
              "  [theme=dark] .colab-df-quickchart {\n",
              "      --bg-color: #3B4455;\n",
              "      --fill-color: #D2E3FC;\n",
              "      --hover-bg-color: #434B5C;\n",
              "      --hover-fill-color: #FFFFFF;\n",
              "      --disabled-bg-color: #3B4455;\n",
              "      --disabled-fill-color: #666;\n",
              "  }\n",
              "\n",
              "  .colab-df-quickchart {\n",
              "    background-color: var(--bg-color);\n",
              "    border: none;\n",
              "    border-radius: 50%;\n",
              "    cursor: pointer;\n",
              "    display: none;\n",
              "    fill: var(--fill-color);\n",
              "    height: 32px;\n",
              "    padding: 0;\n",
              "    width: 32px;\n",
              "  }\n",
              "\n",
              "  .colab-df-quickchart:hover {\n",
              "    background-color: var(--hover-bg-color);\n",
              "    box-shadow: 0 1px 2px rgba(60, 64, 67, 0.3), 0 1px 3px 1px rgba(60, 64, 67, 0.15);\n",
              "    fill: var(--button-hover-fill-color);\n",
              "  }\n",
              "\n",
              "  .colab-df-quickchart-complete:disabled,\n",
              "  .colab-df-quickchart-complete:disabled:hover {\n",
              "    background-color: var(--disabled-bg-color);\n",
              "    fill: var(--disabled-fill-color);\n",
              "    box-shadow: none;\n",
              "  }\n",
              "\n",
              "  .colab-df-spinner {\n",
              "    border: 2px solid var(--fill-color);\n",
              "    border-color: transparent;\n",
              "    border-bottom-color: var(--fill-color);\n",
              "    animation:\n",
              "      spin 1s steps(1) infinite;\n",
              "  }\n",
              "\n",
              "  @keyframes spin {\n",
              "    0% {\n",
              "      border-color: transparent;\n",
              "      border-bottom-color: var(--fill-color);\n",
              "      border-left-color: var(--fill-color);\n",
              "    }\n",
              "    20% {\n",
              "      border-color: transparent;\n",
              "      border-left-color: var(--fill-color);\n",
              "      border-top-color: var(--fill-color);\n",
              "    }\n",
              "    30% {\n",
              "      border-color: transparent;\n",
              "      border-left-color: var(--fill-color);\n",
              "      border-top-color: var(--fill-color);\n",
              "      border-right-color: var(--fill-color);\n",
              "    }\n",
              "    40% {\n",
              "      border-color: transparent;\n",
              "      border-right-color: var(--fill-color);\n",
              "      border-top-color: var(--fill-color);\n",
              "    }\n",
              "    60% {\n",
              "      border-color: transparent;\n",
              "      border-right-color: var(--fill-color);\n",
              "    }\n",
              "    80% {\n",
              "      border-color: transparent;\n",
              "      border-right-color: var(--fill-color);\n",
              "      border-bottom-color: var(--fill-color);\n",
              "    }\n",
              "    90% {\n",
              "      border-color: transparent;\n",
              "      border-bottom-color: var(--fill-color);\n",
              "    }\n",
              "  }\n",
              "</style>\n",
              "\n",
              "  <script>\n",
              "    async function quickchart(key) {\n",
              "      const quickchartButtonEl =\n",
              "        document.querySelector('#' + key + ' button');\n",
              "      quickchartButtonEl.disabled = true;  // To prevent multiple clicks.\n",
              "      quickchartButtonEl.classList.add('colab-df-spinner');\n",
              "      try {\n",
              "        const charts = await google.colab.kernel.invokeFunction(\n",
              "            'suggestCharts', [key], {});\n",
              "      } catch (error) {\n",
              "        console.error('Error during call to suggestCharts:', error);\n",
              "      }\n",
              "      quickchartButtonEl.classList.remove('colab-df-spinner');\n",
              "      quickchartButtonEl.classList.add('colab-df-quickchart-complete');\n",
              "    }\n",
              "    (() => {\n",
              "      let quickchartButtonEl =\n",
              "        document.querySelector('#df-e43d227d-a7e5-4f0f-950a-dc69cb8853ff button');\n",
              "      quickchartButtonEl.style.display =\n",
              "        google.colab.kernel.accessAllowed ? 'block' : 'none';\n",
              "    })();\n",
              "  </script>\n",
              "</div>\n",
              "\n",
              "    </div>\n",
              "  </div>\n"
            ],
            "application/vnd.google.colaboratory.intrinsic+json": {
              "type": "dataframe",
              "summary": "{\n  \"name\": \"data\",\n  \"rows\": 8,\n  \"fields\": [\n    {\n      \"column\": \"Hours\",\n      \"properties\": {\n        \"dtype\": \"number\",\n        \"std\": 7.6600982856637465,\n        \"min\": 1.1,\n        \"max\": 25.0,\n        \"num_unique_values\": 8,\n        \"samples\": [\n          5.012,\n          4.8,\n          25.0\n        ],\n        \"semantic_type\": \"\",\n        \"description\": \"\"\n      }\n    },\n    {\n      \"column\": \"Scores\",\n      \"properties\": {\n        \"dtype\": \"number\",\n        \"std\": 27.358571628410314,\n        \"min\": 17.0,\n        \"max\": 95.0,\n        \"num_unique_values\": 8,\n        \"samples\": [\n          51.48,\n          47.0,\n          25.0\n        ],\n        \"semantic_type\": \"\",\n        \"description\": \"\"\n      }\n    }\n  ]\n}"
            }
          },
          "metadata": {},
          "execution_count": 12
        }
      ]
    },
    {
      "cell_type": "code",
      "source": [
        "plt.figure(figsize=(12,6))\n",
        "srs.pairplot(data, x_vars=['Hours'], y_vars=['Scores'], height=7, kind='scatter')"
        "plt.xlabel('Hours')\n",
        "plt.ylabel('Scores')\n",
        "plt.title('The Score')\n",
        "plt.show()"
      ],
      "metadata": {
        "colab": {
          "base_uri": "https://localhost:8080/",
          "height": 786
        },
        "id": "56NZZBaj8p0W",
        "outputId": "0d8bcac4-1d6e-4ccd-f792-31eaf435ba6e"
      },
      "execution_count": null,
      "outputs": [
        {
          "output_type": "stream",
          "name": "stderr",
          "text": [
            "/usr/local/lib/python3.11/dist-packages/seaborn/axisgrid.py:2100: UserWarning: The `size` parameter has been renamed to `height`; please update your code.\n",
            "  warnings.warn(msg, UserWarning)\n"
          ]
        },
        {
          "output_type": "display_data",
          "data": {
            "text/plain": [
              "<Figure size 1200x600 with 0 Axes>"
            ]
          },
          "metadata": {}
        },
        {
          "output_type": "display_data",
          "data": {
            "text/plain": [
              "<Figure size 700x700 with 1 Axes>"
            ],
            "image/png": "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\n"
          },
          "metadata": {}
        }
      ]
    },
    {
      "cell_type": "code",
      "source": [
        "df = data.copy()"
      ],
      "metadata": {
        "id": "k3gi7SMF9s51"
      },
      "execution_count": null,
      "outputs": []
    },
    {
      "cell_type": "code",
      "source": [
        "print(\"Data Sebelum Pemeriksaan Duplikat:\")\n",
        "print(df.shape)"
      ],
      "metadata": {
        "colab": {
          "base_uri": "https://localhost:8080/"
        },
        "id": "LVkJVQU_9xLE",
        "outputId": "7bbe67d4-06cc-4331-81dd-3d87bca68f34"
      },
      "execution_count": null,
      "outputs": [
        {
          "output_type": "stream",
          "name": "stdout",
          "text": [
            "Data Sebelum Pemeriksaan Duplikat:\n",
            "(25, 2)\n"
          ]
        }
      ]
    },
    {
      "cell_type": "code",
      "source": [
        "duplicate_rows_before = df[df.duplicated()]\n",
        "duplicate_rows_before"
      ],
      "metadata": {
        "colab": {
          "base_uri": "https://localhost:8080/",
          "height": 89
        },
        "id": "jBzUWPgC-R7M",
        "outputId": "951a7feb-664e-4063-84f8-65310f7d281f"
      },
      "execution_count": null,
      "outputs": [
        {
          "output_type": "execute_result",
          "data": {
            "text/plain": [
              "Empty DataFrame\n",
              "Columns: [Hours, Scores]\n",
              "Index: []"
            ],
            "text/html": [
              "\n",
              "  <div id=\"df-9443fc81-5b42-4799-84ff-1e1c438f4716\" class=\"colab-df-container\">\n",
              "    <div>\n",
              "<style scoped>\n",
              "    .dataframe tbody tr th:only-of-type {\n",
              "        vertical-align: middle;\n",
              "    }\n",
              "\n",
              "    .dataframe tbody tr th {\n",
              "        vertical-align: top;\n",
              "    }\n",
              "\n",
              "    .dataframe thead th {\n",
              "        text-align: right;\n",
              "    }\n",
              "</style>\n",
              "<table border=\"1\" class=\"dataframe\">\n",
              "  <thead>\n",
              "    <tr style=\"text-align: right;\">\n",
              "      <th></th>\n",
              "      <th>Hours</th>\n",
              "      <th>Scores</th>\n",
              "    </tr>\n",
              "  </thead>\n",
              "  <tbody>\n",
              "  </tbody>\n",
              "</table>\n",
              "</div>\n",
              "    <div class=\"colab-df-buttons\">\n",
              "\n",
              "  <div class=\"colab-df-container\">\n",
              "    <button class=\"colab-df-convert\" onclick=\"convertToInteractive('df-9443fc81-5b42-4799-84ff-1e1c438f4716')\"\n",
              "            title=\"Convert this dataframe to an interactive table.\"\n",
              "            style=\"display:none;\">\n",
              "\n",
              "  <svg xmlns=\"http://www.w3.org/2000/svg\" height=\"24px\" viewBox=\"0 -960 960 960\">\n",
              "    <path d=\"M120-120v-720h720v720H120Zm60-500h600v-160H180v160Zm220 220h160v-160H400v160Zm0 220h160v-160H400v160ZM180-400h160v-160H180v160Zm440 0h160v-160H620v160ZM180-180h160v-160H180v160Zm440 0h160v-160H620v160Z\"/>\n",
              "  </svg>\n",
              "    </button>\n",
              "\n",
              "  <style>\n",
              "    .colab-df-container {\n",
              "      display:flex;\n",
              "      gap: 12px;\n",
              "    }\n",
              "\n",
              "    .colab-df-convert {\n",
              "      background-color: #E8F0FE;\n",
              "      border: none;\n",
              "      border-radius: 50%;\n",
              "      cursor: pointer;\n",
              "      display: none;\n",
              "      fill: #1967D2;\n",
              "      height: 32px;\n",
              "      padding: 0 0 0 0;\n",
              "      width: 32px;\n",
              "    }\n",
              "\n",
              "    .colab-df-convert:hover {\n",
              "      background-color: #E2EBFA;\n",
              "      box-shadow: 0px 1px 2px rgba(60, 64, 67, 0.3), 0px 1px 3px 1px rgba(60, 64, 67, 0.15);\n",
              "      fill: #174EA6;\n",
              "    }\n",
              "\n",
              "    .colab-df-buttons div {\n",
              "      margin-bottom: 4px;\n",
              "    }\n",
              "\n",
              "    [theme=dark] .colab-df-convert {\n",
              "      background-color: #3B4455;\n",
              "      fill: #D2E3FC;\n",
              "    }\n",
              "\n",
              "    [theme=dark] .colab-df-convert:hover {\n",
              "      background-color: #434B5C;\n",
              "      box-shadow: 0px 1px 3px 1px rgba(0, 0, 0, 0.15);\n",
              "      filter: drop-shadow(0px 1px 2px rgba(0, 0, 0, 0.3));\n",
              "      fill: #FFFFFF;\n",
              "    }\n",
              "  </style>\n",
              "\n",
              "    <script>\n",
              "      const buttonEl =\n",
              "        document.querySelector('#df-9443fc81-5b42-4799-84ff-1e1c438f4716 button.colab-df-convert');\n",
              "      buttonEl.style.display =\n",
              "        google.colab.kernel.accessAllowed ? 'block' : 'none';\n",
              "\n",
              "      async function convertToInteractive(key) {\n",
              "        const element = document.querySelector('#df-9443fc81-5b42-4799-84ff-1e1c438f4716');\n",
              "        const dataTable =\n",
              "          await google.colab.kernel.invokeFunction('convertToInteractive',\n",
              "                                                    [key], {});\n",
              "        if (!dataTable) return;\n",
              "\n",
              "        const docLinkHtml = 'Like what you see? Visit the ' +\n",
              "          '<a target=\"_blank\" href=https://colab.research.google.com/notebooks/data_table.ipynb>data table notebook</a>'\n",
              "          + ' to learn more about interactive tables.';\n",
              "        element.innerHTML = '';\n",
              "        dataTable['output_type'] = 'display_data';\n",
              "        await google.colab.output.renderOutput(dataTable, element);\n",
              "        const docLink = document.createElement('div');\n",
              "        docLink.innerHTML = docLinkHtml;\n",
              "        element.appendChild(docLink);\n",
              "      }\n",
              "    </script>\n",
              "  </div>\n",
              "\n",
              "\n",
              "  <div id=\"id_daf098e2-94dc-4308-8f53-bb4a57321e12\">\n",
              "    <style>\n",
              "      .colab-df-generate {\n",
              "        background-color: #E8F0FE;\n",
              "        border: none;\n",
              "        border-radius: 50%;\n",
              "        cursor: pointer;\n",
              "        display: none;\n",
              "        fill: #1967D2;\n",
              "        height: 32px;\n",
              "        padding: 0 0 0 0;\n",
              "        width: 32px;\n",
              "      }\n",
              "\n",
              "      .colab-df-generate:hover {\n",
              "        background-color: #E2EBFA;\n",
              "        box-shadow: 0px 1px 2px rgba(60, 64, 67, 0.3), 0px 1px 3px 1px rgba(60, 64, 67, 0.15);\n",
              "        fill: #174EA6;\n",
              "      }\n",
              "\n",
              "      [theme=dark] .colab-df-generate {\n",
              "        background-color: #3B4455;\n",
              "        fill: #D2E3FC;\n",
              "      }\n",
              "\n",
              "      [theme=dark] .colab-df-generate:hover {\n",
              "        background-color: #434B5C;\n",
              "        box-shadow: 0px 1px 3px 1px rgba(0, 0, 0, 0.15);\n",
              "        filter: drop-shadow(0px 1px 2px rgba(0, 0, 0, 0.3));\n",
              "        fill: #FFFFFF;\n",
              "      }\n",
              "    </style>\n",
              "    <button class=\"colab-df-generate\" onclick=\"generateWithVariable('duplicate_rows_before')\"\n",
              "            title=\"Generate code using this dataframe.\"\n",
              "            style=\"display:none;\">\n",
              "\n",
              "  <svg xmlns=\"http://www.w3.org/2000/svg\" height=\"24px\"viewBox=\"0 0 24 24\"\n",
              "       width=\"24px\">\n",
              "    <path d=\"M7,19H8.4L18.45,9,17,7.55,7,17.6ZM5,21V16.75L18.45,3.32a2,2,0,0,1,2.83,0l1.4,1.43a1.91,1.91,0,0,1,.58,1.4,1.91,1.91,0,0,1-.58,1.4L9.25,21ZM18.45,9,17,7.55Zm-12,3A5.31,5.31,0,0,0,4.9,8.1,5.31,5.31,0,0,0,1,6.5,5.31,5.31,0,0,0,4.9,4.9,5.31,5.31,0,0,0,6.5,1,5.31,5.31,0,0,0,8.1,4.9,5.31,5.31,0,0,0,12,6.5,5.46,5.46,0,0,0,6.5,12Z\"/>\n",
              "  </svg>\n",
              "    </button>\n",
              "    <script>\n",
              "      (() => {\n",
              "      const buttonEl =\n",
              "        document.querySelector('#id_daf098e2-94dc-4308-8f53-bb4a57321e12 button.colab-df-generate');\n",
              "      buttonEl.style.display =\n",
              "        google.colab.kernel.accessAllowed ? 'block' : 'none';\n",
              "\n",
              "      buttonEl.onclick = () => {\n",
              "        google.colab.notebook.generateWithVariable('duplicate_rows_before');\n",
              "      }\n",
              "      })();\n",
              "    </script>\n",
              "  </div>\n",
              "\n",
              "    </div>\n",
              "  </div>\n"
            ],
            "application/vnd.google.colaboratory.intrinsic+json": {
              "type": "dataframe",
              "variable_name": "duplicate_rows_before",
              "summary": "{\n  \"name\": \"duplicate_rows_before\",\n  \"rows\": 0,\n  \"fields\": [\n    {\n      \"column\": \"Hours\",\n      \"properties\": {\n        \"dtype\": \"number\",\n        \"std\": null,\n        \"min\": null,\n        \"max\": null,\n        \"num_unique_values\": 0,\n        \"samples\": [],\n        \"semantic_type\": \"\",\n        \"description\": \"\"\n      }\n    },\n    {\n      \"column\": \"Scores\",\n      \"properties\": {\n        \"dtype\": \"number\",\n        \"std\": null,\n        \"min\": null,\n        \"max\": null,\n        \"num_unique_values\": 0,\n        \"samples\": [],\n        \"semantic_type\": \"\",\n        \"description\": \"\"\n      }\n    }\n  ]\n}"
            }
          },
          "metadata": {},
          "execution_count": 20
        }
      ]
    },
    {
      "cell_type": "code",
      "source": [
        "df = df.drop_duplicates()"
      ],
      "metadata": {
        "id": "YrZBUqTb-eYU"
      },
      "execution_count": null,
      "outputs": []
    },
    {
      "cell_type": "code",
      "source": [
        "print(\"\\nData Setelah Pemeriksaan Duplikat:\")\n",
        "print(df.shape)"
      ],
      "metadata": {
        "colab": {
          "base_uri": "https://localhost:8080/"
        },
        "id": "wc1D8uRo-kGj",
        "outputId": "46405677-6662-4da3-8163-803b0c841ba2"
      },
      "execution_count": null,
      "outputs": [
        {
          "output_type": "stream",
          "name": "stdout",
          "text": [
            "\n",
            "Data Setelah Pemeriksaan Duplikat:\n",
            "(25, 2)\n"
          ]
        }
      ]
    },
    {
      "cell_type": "code",
      "source": [
        "df.isna().sum()"
      ],
      "metadata": {
        "colab": {
          "base_uri": "https://localhost:8080/",
          "height": 147
        },
        "id": "dMsWH_pf-xK7",
        "outputId": "57b7ebea-1279-43ee-ff05-25ee31efb374"
      },
      "execution_count": null,
      "outputs": [
        {
          "output_type": "execute_result",
          "data": {
            "text/plain": [
              "Hours     0\n",
              "Scores    0\n",
              "dtype: int64"
            ],
            "text/html": [
              "<div>\n",
              "<style scoped>\n",
              "    .dataframe tbody tr th:only-of-type {\n",
              "        vertical-align: middle;\n",
              "    }\n",
              "\n",
              "    .dataframe tbody tr th {\n",
              "        vertical-align: top;\n",
              "    }\n",
              "\n",
              "    .dataframe thead th {\n",
              "        text-align: right;\n",
              "    }\n",
              "</style>\n",
              "<table border=\"1\" class=\"dataframe\">\n",
              "  <thead>\n",
              "    <tr style=\"text-align: right;\">\n",
              "      <th></th>\n",
              "      <th>0</th>\n",
              "    </tr>\n",
              "  </thead>\n",
              "  <tbody>\n",
              "    <tr>\n",
              "      <th>Hours</th>\n",
              "      <td>0</td>\n",
              "    </tr>\n",
              "    <tr>\n",
              "      <th>Scores</th>\n",
              "      <td>0</td>\n",
              "    </tr>\n",
              "  </tbody>\n",
              "</table>\n",
              "</div><br><label><b>dtype:</b> int64</label>"
            ]
          },
          "metadata": {},
          "execution_count": 23
        }
      ]
    },
    {
      "cell_type": "code",
      "source": [
        "import seaborn as sns\n",
        "import matplotlib.pyplot as pit\n",
        "#Outlier Analysis\n",
        "sns.boxplot(x=\"Hours\", data=df)\n",
        "# Menambahkan label sumbu dan judul\n",
        "plt.xlabel(\"Hours\")\n",
        "plt.ylabel(\"Scores\")\n",
        "plt.title(\"Boxplot Hours\")\n",
        "#Menampilkan plot\n",
        "plt.show()"
      ],
      "metadata": {
        "colab": {
          "base_uri": "https://localhost:8080/",
          "height": 472
        },
        "id": "EMYRyT8K_HFr",
        "outputId": "e8e8cc7c-e243-4116-beb8-4aaf8d1ed593"
      },
      "execution_count": null,
      "outputs": [
        {
          "output_type": "display_data",
          "data": {
            "text/plain": [
              "<Figure size 640x480 with 1 Axes>"
            ],
            "image/png": "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\n"
          },
          "metadata": {}
        }
      ]
    },
    {
      "cell_type": "code",
      "source": [
        "X = df['Hours']\n",
        "X.astype('float64')\n",
        "X.head()"
      ],
      "metadata": {
        "colab": {
          "base_uri": "https://localhost:8080/",
          "height": 241
        },
        "id": "8GTrsSV7_ifC",
        "outputId": "55c0a9f4-1ac1-4f00-ef4f-6e00a61c570d"
      },
      "execution_count": null,
      "outputs": [
        {
          "output_type": "execute_result",
          "data": {
            "text/plain": [
              "0    2.5\n",
              "1    5.1\n",
              "2    3.2\n",
              "3    8.5\n",
              "4    3.5\n",
              "Name: Hours, dtype: float64"
            ],
            "text/html": [
              "<div>\n",
              "<style scoped>\n",
              "    .dataframe tbody tr th:only-of-type {\n",
              "        vertical-align: middle;\n",
              "    }\n",
              "\n",
              "    .dataframe tbody tr th {\n",
              "        vertical-align: top;\n",
              "    }\n",
              "\n",
              "    .dataframe thead th {\n",
              "        text-align: right;\n",
              "    }\n",
              "</style>\n",
              "<table border=\"1\" class=\"dataframe\">\n",
              "  <thead>\n",
              "    <tr style=\"text-align: right;\">\n",
              "      <th></th>\n",
              "      <th>Hours</th>\n",
              "    </tr>\n",
              "  </thead>\n",
              "  <tbody>\n",
              "    <tr>\n",
              "      <th>0</th>\n",
              "      <td>2.5</td>\n",
              "    </tr>\n",
              "    <tr>\n",
              "      <th>1</th>\n",
              "      <td>5.1</td>\n",
              "    </tr>\n",
              "    <tr>\n",
              "      <th>2</th>\n",
              "      <td>3.2</td>\n",
              "    </tr>\n",
              "    <tr>\n",
              "      <th>3</th>\n",
              "      <td>8.5</td>\n",
              "    </tr>\n",
              "    <tr>\n",
              "      <th>4</th>\n",
              "      <td>3.5</td>\n",
              "    </tr>\n",
              "  </tbody>\n",
              "</table>\n",
              "</div><br><label><b>dtype:</b> float64</label>"
            ]
          },
          "metadata": {},
          "execution_count": 86
        }
      ]
    },
    {
      "cell_type": "code",
      "source": [
        "y = df['Scores']\n",
        "y = y.astype('float64')\n",
        "y.head()\n"
      ],
      "metadata": {
        "colab": {
          "base_uri": "https://localhost:8080/",
          "height": 241
        },
        "id": "CuDTstDX_88S",
        "outputId": "806d32f1-620d-4479-a324-4ecd93f1f666"
      },
      "execution_count": null,
      "outputs": [
        {
          "output_type": "execute_result",
          "data": {
            "text/plain": [
              "0    21.0\n",
              "1    47.0\n",
              "2    27.0\n",
              "3    75.0\n",
              "4    30.0\n",
              "Name: Scores, dtype: float64"
            ],
            "text/html": [
              "<div>\n",
              "<style scoped>\n",
              "    .dataframe tbody tr th:only-of-type {\n",
              "        vertical-align: middle;\n",
              "    }\n",
              "\n",
              "    .dataframe tbody tr th {\n",
              "        vertical-align: top;\n",
              "    }\n",
              "\n",
              "    .dataframe thead th {\n",
              "        text-align: right;\n",
              "    }\n",
              "</style>\n",
              "<table border=\"1\" class=\"dataframe\">\n",
              "  <thead>\n",
              "    <tr style=\"text-align: right;\">\n",
              "      <th></th>\n",
              "      <th>Scores</th>\n",
              "    </tr>\n",
              "  </thead>\n",
              "  <tbody>\n",
              "    <tr>\n",
              "      <th>0</th>\n",
              "      <td>21.0</td>\n",
              "    </tr>\n",
              "    <tr>\n",
              "      <th>1</th>\n",
              "      <td>47.0</td>\n",
              "    </tr>\n",
              "    <tr>\n",
              "      <th>2</th>\n",
              "      <td>27.0</td>\n",
              "    </tr>\n",
              "    <tr>\n",
              "      <th>3</th>\n",
              "      <td>75.0</td>\n",
              "    </tr>\n",
              "    <tr>\n",
              "      <th>4</th>\n",
              "      <td>30.0</td>\n",
              "    </tr>\n",
              "  </tbody>\n",
              "</table>\n",
              "</div><br><label><b>dtype:</b> float64</label>"
            ]
          },
          "metadata": {},
          "execution_count": 84
        }
      ]
    },
    {
      "cell_type": "code",
      "source": [
        "#Import machine learning data from scikit learn\n",
        "from sklearn.model_selection import train_test_split\n",
        "#Split the data for train and test\n",
        "#train: test 75 25 atau 80 20 atau 70:30 atau 85:15, size train > test\n",
        "X_train, X_test,y_train,y_test = train_test_split(X,y, train_size=0.75, random_state=42)\n",
        "#X_train dan y_train > knowledge dari dosen ke mahasiswa (X_train contoh soal), y_train (kunci jawaban dari contoh soal)\n",
        "#X_test dan y_test > soal ujian (UTS maupun UAS) (X_test), y_test (kunci jawaban dosennya / data aktual)"
      ],
      "metadata": {
        "id": "aVEj2_5BAPEZ"
      },
      "execution_count": null,
      "outputs": []
    },
    {
      "cell_type": "code",
      "execution_count": null,
      "metadata": {
        "colab": {
          "base_uri": "https://localhost:8080/",
          "height": 648
        },
        "id": "So68k7DpyYJ5",
        "outputId": "57271f92-b2a6-4d25-e8b0-a55f71835adc"
      },
      "outputs": [
        {
          "output_type": "execute_result",
          "data": {
            "text/plain": [
              "1     5.1\n",
              "22    3.8\n",
              "5     1.5\n",
              "2     3.2\n",
              "12    4.5\n",
              "15    8.9\n",
              "3     8.5\n",
              "4     3.5\n",
              "20    2.7\n",
              "17    1.9\n",
              "21    4.8\n",
              "18    6.1\n",
              "24    7.8\n",
              "7     5.5\n",
              "10    7.7\n",
              "14    1.1\n",
              "19    7.4\n",
              "6     9.2\n",
              "Name: Hours, dtype: float64"
            ],
            "text/html": [
              "<div>\n",
              "<style scoped>\n",
              "    .dataframe tbody tr th:only-of-type {\n",
              "        vertical-align: middle;\n",
              "    }\n",
              "\n",
              "    .dataframe tbody tr th {\n",
              "        vertical-align: top;\n",
              "    }\n",
              "\n",
              "    .dataframe thead th {\n",
              "        text-align: right;\n",
              "    }\n",
              "</style>\n",
              "<table border=\"1\" class=\"dataframe\">\n",
              "  <thead>\n",
              "    <tr style=\"text-align: right;\">\n",
              "      <th></th>\n",
              "      <th>Hours</th>\n",
              "    </tr>\n",
              "  </thead>\n",
              "  <tbody>\n",
              "    <tr>\n",
              "      <th>1</th>\n",
              "      <td>5.1</td>\n",
              "    </tr>\n",
              "    <tr>\n",
              "      <th>22</th>\n",
              "      <td>3.8</td>\n",
              "    </tr>\n",
              "    <tr>\n",
              "      <th>5</th>\n",
              "      <td>1.5</td>\n",
              "    </tr>\n",
              "    <tr>\n",
              "      <th>2</th>\n",
              "      <td>3.2</td>\n",
              "    </tr>\n",
              "    <tr>\n",
              "      <th>12</th>\n",
              "      <td>4.5</td>\n",
              "    </tr>\n",
              "    <tr>\n",
              "      <th>15</th>\n",
              "      <td>8.9</td>\n",
              "    </tr>\n",
              "    <tr>\n",
              "      <th>3</th>\n",
              "      <td>8.5</td>\n",
              "    </tr>\n",
              "    <tr>\n",
              "      <th>4</th>\n",
              "      <td>3.5</td>\n",
              "    </tr>\n",
              "    <tr>\n",
              "      <th>20</th>\n",
              "      <td>2.7</td>\n",
              "    </tr>\n",
              "    <tr>\n",
              "      <th>17</th>\n",
              "      <td>1.9</td>\n",
              "    </tr>\n",
              "    <tr>\n",
              "      <th>21</th>\n",
              "      <td>4.8</td>\n",
              "    </tr>\n",
              "    <tr>\n",
              "      <th>18</th>\n",
              "      <td>6.1</td>\n",
              "    </tr>\n",
              "    <tr>\n",
              "      <th>24</th>\n",
              "      <td>7.8</td>\n",
              "    </tr>\n",
              "    <tr>\n",
              "      <th>7</th>\n",
              "      <td>5.5</td>\n",
              "    </tr>\n",
              "    <tr>\n",
              "      <th>10</th>\n",
              "      <td>7.7</td>\n",
              "    </tr>\n",
              "    <tr>\n",
              "      <th>14</th>\n",
              "      <td>1.1</td>\n",
              "    </tr>\n",
              "    <tr>\n",
              "      <th>19</th>\n",
              "      <td>7.4</td>\n",
              "    </tr>\n",
              "    <tr>\n",
              "      <th>6</th>\n",
              "      <td>9.2</td>\n",
              "    </tr>\n",
              "  </tbody>\n",
              "</table>\n",
              "</div><br><label><b>dtype:</b> float64</label>"
            ]
          },
          "metadata": {},
          "execution_count": 88
        }
      ],
      "source": [
        "X_train\n"
      ]
    },
    {
      "cell_type": "code",
      "source": [
        "# Importing Linear Regression model from scikit learn\n",
        "from sklearn.linear_model import LinearRegression"
      ],
      "metadata": {
        "id": "e4fXWlmEiMio"
      },
      "execution_count": null,
      "outputs": []
    },
    {
      "cell_type": "code",
      "source": [
        "\n",
        "import numpy as np\n",
        "\n",
        "X_train = X_train[:, np.newaxis]\n",
        "X_test = X_test[:, np.newaxis]"
      ],
      "metadata": {
        "id": "T9GWa9CmiMgP"
      },
      "execution_count": null,
      "outputs": []
    },
    {
      "cell_type": "code",
      "source": [
        "print(type(X_train))"
      ],
      "metadata": {
        "colab": {
          "base_uri": "https://localhost:8080/"
        },
        "id": "e3eQ693-C9N2",
        "outputId": "94cd83f9-71f4-4d3d-aa80-259815e48f24"
      },
      "execution_count": null,
      "outputs": [
        {
          "output_type": "stream",
          "name": "stdout",
          "text": [
            "<class 'numpy.ndarray'>\n"
          ]
        }
      ]
    },
    {
      "cell_type": "code",
      "source": [
        "#array\n",
        "X_train"
      ],
      "metadata": {
        "colab": {
          "base_uri": "https://localhost:8080/"
        },
        "id": "gmWrcfHYDGzW",
        "outputId": "61156b2a-393e-4802-b314-0b1338d29b0a"
      },
      "execution_count": null,
      "outputs": [
        {
          "output_type": "execute_result",
          "data": {
            "text/plain": [
              "array([[[[5.1]]],\n",
              "\n",
              "\n",
              "       [[[3.8]]],\n",
              "\n",
              "\n",
              "       [[[1.5]]],\n",
              "\n",
              "\n",
              "       [[[3.2]]],\n",
              "\n",
              "\n",
              "       [[[4.5]]],\n",
              "\n",
              "\n",
              "       [[[8.9]]],\n",
              "\n",
              "\n",
              "       [[[8.5]]],\n",
              "\n",
              "\n",
              "       [[[3.5]]],\n",
              "\n",
              "\n",
              "       [[[2.7]]],\n",
              "\n",
              "\n",
              "       [[[1.9]]],\n",
              "\n",
              "\n",
              "       [[[4.8]]],\n",
              "\n",
              "\n",
              "       [[[6.1]]],\n",
              "\n",
              "\n",
              "       [[[7.8]]],\n",
              "\n",
              "\n",
              "       [[[5.5]]],\n",
              "\n",
              "\n",
              "       [[[7.7]]],\n",
              "\n",
              "\n",
              "       [[[1.1]]],\n",
              "\n",
              "\n",
              "       [[[7.4]]],\n",
              "\n",
              "\n",
              "       [[[9.2]]]])"
            ]
          },
          "metadata": {},
          "execution_count": 56
        }
      ]
    },
    {
      "cell_type": "markdown",
      "source": [],
      "metadata": {
        "id": "FASABkupC8_1"
      }
    },
    {
      "cell_type": "code",
      "source": [
        "X_test"
      ],
      "metadata": {
        "colab": {
          "base_uri": "https://localhost:8080/"
        },
        "id": "sSDFO4duD8Rk",
        "outputId": "0cca08f6-ada9-43a8-af50-270d1273dcb6"
      },
      "execution_count": null,
      "outputs": [
        {
          "output_type": "execute_result",
          "data": {
            "text/plain": [
              "array([[[[8.3]]],\n",
              "\n",
              "\n",
              "       [[[2.5]]],\n",
              "\n",
              "\n",
              "       [[[2.5]]],\n",
              "\n",
              "\n",
              "       [[[6.9]]],\n",
              "\n",
              "\n",
              "       [[[5.9]]],\n",
              "\n",
              "\n",
              "       [[[2.7]]],\n",
              "\n",
              "\n",
              "       [[[3.3]]]])"
            ]
          },
          "metadata": {},
          "execution_count": 60
        }
      ]
    },
    {
      "cell_type": "code",
      "source": [
        "\n",
        "y_train\n",
        "y.astype('float64')\n"
      ],
      "metadata": {
        "colab": {
          "base_uri": "https://localhost:8080/",
          "height": 868
        },
        "id": "T7SweRQQD-Lr",
        "outputId": "bcfd0933-fd2c-4f75-ebab-60311366ae33"
      },
      "execution_count": null,
      "outputs": [
        {
          "output_type": "execute_result",
          "data": {
            "text/plain": [
              "0     21.0\n",
              "1     47.0\n",
              "2     27.0\n",
              "3     75.0\n",
              "4     30.0\n",
              "5     20.0\n",
              "6     88.0\n",
              "7     60.0\n",
              "8     81.0\n",
              "9     25.0\n",
              "10    85.0\n",
              "11    62.0\n",
              "12    41.0\n",
              "13    42.0\n",
              "14    17.0\n",
              "15    95.0\n",
              "16    30.0\n",
              "17    24.0\n",
              "18    67.0\n",
              "19    69.0\n",
              "20    30.0\n",
              "21    54.0\n",
              "22    35.0\n",
              "23    76.0\n",
              "24    86.0\n",
              "Name: Scores, dtype: float64"
            ],
            "text/html": [
              "<div>\n",
              "<style scoped>\n",
              "    .dataframe tbody tr th:only-of-type {\n",
              "        vertical-align: middle;\n",
              "    }\n",
              "\n",
              "    .dataframe tbody tr th {\n",
              "        vertical-align: top;\n",
              "    }\n",
              "\n",
              "    .dataframe thead th {\n",
              "        text-align: right;\n",
              "    }\n",
              "</style>\n",
              "<table border=\"1\" class=\"dataframe\">\n",
              "  <thead>\n",
              "    <tr style=\"text-align: right;\">\n",
              "      <th></th>\n",
              "      <th>Scores</th>\n",
              "    </tr>\n",
              "  </thead>\n",
              "  <tbody>\n",
              "    <tr>\n",
              "      <th>0</th>\n",
              "      <td>21.0</td>\n",
              "    </tr>\n",
              "    <tr>\n",
              "      <th>1</th>\n",
              "      <td>47.0</td>\n",
              "    </tr>\n",
              "    <tr>\n",
              "      <th>2</th>\n",
              "      <td>27.0</td>\n",
              "    </tr>\n",
              "    <tr>\n",
              "      <th>3</th>\n",
              "      <td>75.0</td>\n",
              "    </tr>\n",
              "    <tr>\n",
              "      <th>4</th>\n",
              "      <td>30.0</td>\n",
              "    </tr>\n",
              "    <tr>\n",
              "      <th>5</th>\n",
              "      <td>20.0</td>\n",
              "    </tr>\n",
              "    <tr>\n",
              "      <th>6</th>\n",
              "      <td>88.0</td>\n",
              "    </tr>\n",
              "    <tr>\n",
              "      <th>7</th>\n",
              "      <td>60.0</td>\n",
              "    </tr>\n",
              "    <tr>\n",
              "      <th>8</th>\n",
              "      <td>81.0</td>\n",
              "    </tr>\n",
              "    <tr>\n",
              "      <th>9</th>\n",
              "      <td>25.0</td>\n",
              "    </tr>\n",
              "    <tr>\n",
              "      <th>10</th>\n",
              "      <td>85.0</td>\n",
              "    </tr>\n",
              "    <tr>\n",
              "      <th>11</th>\n",
              "      <td>62.0</td>\n",
              "    </tr>\n",
              "    <tr>\n",
              "      <th>12</th>\n",
              "      <td>41.0</td>\n",
              "    </tr>\n",
              "    <tr>\n",
              "      <th>13</th>\n",
              "      <td>42.0</td>\n",
              "    </tr>\n",
              "    <tr>\n",
              "      <th>14</th>\n",
              "      <td>17.0</td>\n",
              "    </tr>\n",
              "    <tr>\n",
              "      <th>15</th>\n",
              "      <td>95.0</td>\n",
              "    </tr>\n",
              "    <tr>\n",
              "      <th>16</th>\n",
              "      <td>30.0</td>\n",
              "    </tr>\n",
              "    <tr>\n",
              "      <th>17</th>\n",
              "      <td>24.0</td>\n",
              "    </tr>\n",
              "    <tr>\n",
              "      <th>18</th>\n",
              "      <td>67.0</td>\n",
              "    </tr>\n",
              "    <tr>\n",
              "      <th>19</th>\n",
              "      <td>69.0</td>\n",
              "    </tr>\n",
              "    <tr>\n",
              "      <th>20</th>\n",
              "      <td>30.0</td>\n",
              "    </tr>\n",
              "    <tr>\n",
              "      <th>21</th>\n",
              "      <td>54.0</td>\n",
              "    </tr>\n",
              "    <tr>\n",
              "      <th>22</th>\n",
              "      <td>35.0</td>\n",
              "    </tr>\n",
              "    <tr>\n",
              "      <th>23</th>\n",
              "      <td>76.0</td>\n",
              "    </tr>\n",
              "    <tr>\n",
              "      <th>24</th>\n",
              "      <td>86.0</td>\n",
              "    </tr>\n",
              "  </tbody>\n",
              "</table>\n",
              "</div><br><label><b>dtype:</b> float64</label>"
            ]
          },
          "metadata": {},
          "execution_count": 90
        }
      ]
    },
    {
      "cell_type": "code",
      "source": [
        "y_test\n",
        "y.astype('float64')"
      ],
      "metadata": {
        "colab": {
          "base_uri": "https://localhost:8080/",
          "height": 868
        },
        "id": "HLNbip6-EAIj",
        "outputId": "81edd3ff-4bd9-416d-922b-a1e6e3f405f8"
      },
      "execution_count": null,
      "outputs": [
        {
          "output_type": "execute_result",
          "data": {
            "text/plain": [
              "0     21.0\n",
              "1     47.0\n",
              "2     27.0\n",
              "3     75.0\n",
              "4     30.0\n",
              "5     20.0\n",
              "6     88.0\n",
              "7     60.0\n",
              "8     81.0\n",
              "9     25.0\n",
              "10    85.0\n",
              "11    62.0\n",
              "12    41.0\n",
              "13    42.0\n",
              "14    17.0\n",
              "15    95.0\n",
              "16    30.0\n",
              "17    24.0\n",
              "18    67.0\n",
              "19    69.0\n",
              "20    30.0\n",
              "21    54.0\n",
              "22    35.0\n",
              "23    76.0\n",
              "24    86.0\n",
              "Name: Scores, dtype: float64"
            ],
            "text/html": [
              "<div>\n",
              "<style scoped>\n",
              "    .dataframe tbody tr th:only-of-type {\n",
              "        vertical-align: middle;\n",
              "    }\n",
              "\n",
              "    .dataframe tbody tr th {\n",
              "        vertical-align: top;\n",
              "    }\n",
              "\n",
              "    .dataframe thead th {\n",
              "        text-align: right;\n",
              "    }\n",
              "</style>\n",
              "<table border=\"1\" class=\"dataframe\">\n",
              "  <thead>\n",
              "    <tr style=\"text-align: right;\">\n",
              "      <th></th>\n",
              "      <th>Scores</th>\n",
              "    </tr>\n",
              "  </thead>\n",
              "  <tbody>\n",
              "    <tr>\n",
              "      <th>0</th>\n",
              "      <td>21.0</td>\n",
              "    </tr>\n",
              "    <tr>\n",
              "      <th>1</th>\n",
              "      <td>47.0</td>\n",
              "    </tr>\n",
              "    <tr>\n",
              "      <th>2</th>\n",
              "      <td>27.0</td>\n",
              "    </tr>\n",
              "    <tr>\n",
              "      <th>3</th>\n",
              "      <td>75.0</td>\n",
              "    </tr>\n",
              "    <tr>\n",
              "      <th>4</th>\n",
              "      <td>30.0</td>\n",
              "    </tr>\n",
              "    <tr>\n",
              "      <th>5</th>\n",
              "      <td>20.0</td>\n",
              "    </tr>\n",
              "    <tr>\n",
              "      <th>6</th>\n",
              "      <td>88.0</td>\n",
              "    </tr>\n",
              "    <tr>\n",
              "      <th>7</th>\n",
              "      <td>60.0</td>\n",
              "    </tr>\n",
              "    <tr>\n",
              "      <th>8</th>\n",
              "      <td>81.0</td>\n",
              "    </tr>\n",
              "    <tr>\n",
              "      <th>9</th>\n",
              "      <td>25.0</td>\n",
              "    </tr>\n",
              "    <tr>\n",
              "      <th>10</th>\n",
              "      <td>85.0</td>\n",
              "    </tr>\n",
              "    <tr>\n",
              "      <th>11</th>\n",
              "      <td>62.0</td>\n",
              "    </tr>\n",
              "    <tr>\n",
              "      <th>12</th>\n",
              "      <td>41.0</td>\n",
              "    </tr>\n",
              "    <tr>\n",
              "      <th>13</th>\n",
              "      <td>42.0</td>\n",
              "    </tr>\n",
              "    <tr>\n",
              "      <th>14</th>\n",
              "      <td>17.0</td>\n",
              "    </tr>\n",
              "    <tr>\n",
              "      <th>15</th>\n",
              "      <td>95.0</td>\n",
              "    </tr>\n",
              "    <tr>\n",
              "      <th>16</th>\n",
              "      <td>30.0</td>\n",
              "    </tr>\n",
              "    <tr>\n",
              "      <th>17</th>\n",
              "      <td>24.0</td>\n",
              "    </tr>\n",
              "    <tr>\n",
              "      <th>18</th>\n",
              "      <td>67.0</td>\n",
              "    </tr>\n",
              "    <tr>\n",
              "      <th>19</th>\n",
              "      <td>69.0</td>\n",
              "    </tr>\n",
              "    <tr>\n",
              "      <th>20</th>\n",
              "      <td>30.0</td>\n",
              "    </tr>\n",
              "    <tr>\n",
              "      <th>21</th>\n",
              "      <td>54.0</td>\n",
              "    </tr>\n",
              "    <tr>\n",
              "      <th>22</th>\n",
              "      <td>35.0</td>\n",
              "    </tr>\n",
              "    <tr>\n",
              "      <th>23</th>\n",
              "      <td>76.0</td>\n",
              "    </tr>\n",
              "    <tr>\n",
              "      <th>24</th>\n",
              "      <td>86.0</td>\n",
              "    </tr>\n",
              "  </tbody>\n",
              "</table>\n",
              "</div><br><label><b>dtype:</b> float64</label>"
            ]
          },
          "metadata": {},
          "execution_count": 91
        }
      ]
    },
    {
      "cell_type": "code",
      "source": [
        "import numpy as np\n",
        "#man idk chat why is the code isnt workin\n",
        "\n",
        "# Convert to a NumPy array and reshape it to have one column\n",
        "X_train = np.array(X_train).reshape(-1, 1)\n",
        "X_test  = np.array(X_test).reshape(-1, 1)"
      ],
      "metadata": {
        "id": "zcyzT5DVHQLv"
      },
      "execution_count": null,
      "outputs": []
    },
    {
      "cell_type": "code",
      "source": [
        "lr_model = LinearRegression()\n",
        "lr_model.fit(X_train,y_train)"
      ],
      "metadata": {
        "colab": {
          "base_uri": "https://localhost:8080/",
          "height": 80
        },
        "id": "7ca1XLNdDXc8",
        "outputId": "1a7d254e-03ac-45cd-d98e-3b4c6c0e62c3"
      },
      "execution_count": null,
      "outputs": [
        {
          "output_type": "execute_result",
          "data": {
            "text/plain": [
              "LinearRegression()"
            ],
            "text/html": [
              "<style>#sk-container-id-3 {\n",
              "  /* Definition of color scheme common for light and dark mode */\n",
              "  --sklearn-color-text: #000;\n",
              "  --sklearn-color-text-muted: #666;\n",
              "  --sklearn-color-line: gray;\n",
              "  /* Definition of color scheme for unfitted estimators */\n",
              "  --sklearn-color-unfitted-level-0: #fff5e6;\n",
              "  --sklearn-color-unfitted-level-1: #f6e4d2;\n",
              "  --sklearn-color-unfitted-level-2: #ffe0b3;\n",
              "  --sklearn-color-unfitted-level-3: chocolate;\n",
              "  /* Definition of color scheme for fitted estimators */\n",
              "  --sklearn-color-fitted-level-0: #f0f8ff;\n",
              "  --sklearn-color-fitted-level-1: #d4ebff;\n",
              "  --sklearn-color-fitted-level-2: #b3dbfd;\n",
              "  --sklearn-color-fitted-level-3: cornflowerblue;\n",
              "\n",
              "  /* Specific color for light theme */\n",
              "  --sklearn-color-text-on-default-background: var(--sg-text-color, var(--theme-code-foreground, var(--jp-content-font-color1, black)));\n",
              "  --sklearn-color-background: var(--sg-background-color, var(--theme-background, var(--jp-layout-color0, white)));\n",
              "  --sklearn-color-border-box: var(--sg-text-color, var(--theme-code-foreground, var(--jp-content-font-color1, black)));\n",
              "  --sklearn-color-icon: #696969;\n",
              "\n",
              "  @media (prefers-color-scheme: dark) {\n",
              "    /* Redefinition of color scheme for dark theme */\n",
              "    --sklearn-color-text-on-default-background: var(--sg-text-color, var(--theme-code-foreground, var(--jp-content-font-color1, white)));\n",
              "    --sklearn-color-background: var(--sg-background-color, var(--theme-background, var(--jp-layout-color0, #111)));\n",
              "    --sklearn-color-border-box: var(--sg-text-color, var(--theme-code-foreground, var(--jp-content-font-color1, white)));\n",
              "    --sklearn-color-icon: #878787;\n",
              "  }\n",
              "}\n",
              "\n",
              "#sk-container-id-3 {\n",
              "  color: var(--sklearn-color-text);\n",
              "}\n",
              "\n",
              "#sk-container-id-3 pre {\n",
              "  padding: 0;\n",
              "}\n",
              "\n",
              "#sk-container-id-3 input.sk-hidden--visually {\n",
              "  border: 0;\n",
              "  clip: rect(1px 1px 1px 1px);\n",
              "  clip: rect(1px, 1px, 1px, 1px);\n",
              "  height: 1px;\n",
              "  margin: -1px;\n",
              "  overflow: hidden;\n",
              "  padding: 0;\n",
              "  position: absolute;\n",
              "  width: 1px;\n",
              "}\n",
              "\n",
              "#sk-container-id-3 div.sk-dashed-wrapped {\n",
              "  border: 1px dashed var(--sklearn-color-line);\n",
              "  margin: 0 0.4em 0.5em 0.4em;\n",
              "  box-sizing: border-box;\n",
              "  padding-bottom: 0.4em;\n",
              "  background-color: var(--sklearn-color-background);\n",
              "}\n",
              "\n",
              "#sk-container-id-3 div.sk-container {\n",
              "  /* jupyter's `normalize.less` sets `[hidden] { display: none; }`\n",
              "     but bootstrap.min.css set `[hidden] { display: none !important; }`\n",
              "     so we also need the `!important` here to be able to override the\n",
              "     default hidden behavior on the sphinx rendered scikit-learn.org.\n",
              "     See: https://github.com/scikit-learn/scikit-learn/issues/21755 */\n",
              "  display: inline-block !important;\n",
              "  position: relative;\n",
              "}\n",
              "\n",
              "#sk-container-id-3 div.sk-text-repr-fallback {\n",
              "  display: none;\n",
              "}\n",
              "\n",
              "div.sk-parallel-item,\n",
              "div.sk-serial,\n",
              "div.sk-item {\n",
              "  /* draw centered vertical line to link estimators */\n",
              "  background-image: linear-gradient(var(--sklearn-color-text-on-default-background), var(--sklearn-color-text-on-default-background));\n",
              "  background-size: 2px 100%;\n",
              "  background-repeat: no-repeat;\n",
              "  background-position: center center;\n",
              "}\n",
              "\n",
              "/* Parallel-specific style estimator block */\n",
              "\n",
              "#sk-container-id-3 div.sk-parallel-item::after {\n",
              "  content: \"\";\n",
              "  width: 100%;\n",
              "  border-bottom: 2px solid var(--sklearn-color-text-on-default-background);\n",
              "  flex-grow: 1;\n",
              "}\n",
              "\n",
              "#sk-container-id-3 div.sk-parallel {\n",
              "  display: flex;\n",
              "  align-items: stretch;\n",
              "  justify-content: center;\n",
              "  background-color: var(--sklearn-color-background);\n",
              "  position: relative;\n",
              "}\n",
              "\n",
              "#sk-container-id-3 div.sk-parallel-item {\n",
              "  display: flex;\n",
              "  flex-direction: column;\n",
              "}\n",
              "\n",
              "#sk-container-id-3 div.sk-parallel-item:first-child::after {\n",
              "  align-self: flex-end;\n",
              "  width: 50%;\n",
              "}\n",
              "\n",
              "#sk-container-id-3 div.sk-parallel-item:last-child::after {\n",
              "  align-self: flex-start;\n",
              "  width: 50%;\n",
              "}\n",
              "\n",
              "#sk-container-id-3 div.sk-parallel-item:only-child::after {\n",
              "  width: 0;\n",
              "}\n",
              "\n",
              "/* Serial-specific style estimator block */\n",
              "\n",
              "#sk-container-id-3 div.sk-serial {\n",
              "  display: flex;\n",
              "  flex-direction: column;\n",
              "  align-items: center;\n",
              "  background-color: var(--sklearn-color-background);\n",
              "  padding-right: 1em;\n",
              "  padding-left: 1em;\n",
              "}\n",
              "\n",
              "\n",
              "/* Toggleable style: style used for estimator/Pipeline/ColumnTransformer box that is\n",
              "clickable and can be expanded/collapsed.\n",
              "- Pipeline and ColumnTransformer use this feature and define the default style\n",
              "- Estimators will overwrite some part of the style using the `sk-estimator` class\n",
              "*/\n",
              "\n",
              "/* Pipeline and ColumnTransformer style (default) */\n",
              "\n",
              "#sk-container-id-3 div.sk-toggleable {\n",
              "  /* Default theme specific background. It is overwritten whether we have a\n",
              "  specific estimator or a Pipeline/ColumnTransformer */\n",
              "  background-color: var(--sklearn-color-background);\n",
              "}\n",
              "\n",
              "/* Toggleable label */\n",
              "#sk-container-id-3 label.sk-toggleable__label {\n",
              "  cursor: pointer;\n",
              "  display: flex;\n",
              "  width: 100%;\n",
              "  margin-bottom: 0;\n",
              "  padding: 0.5em;\n",
              "  box-sizing: border-box;\n",
              "  text-align: center;\n",
              "  align-items: start;\n",
              "  justify-content: space-between;\n",
              "  gap: 0.5em;\n",
              "}\n",
              "\n",
              "#sk-container-id-3 label.sk-toggleable__label .caption {\n",
              "  font-size: 0.6rem;\n",
              "  font-weight: lighter;\n",
              "  color: var(--sklearn-color-text-muted);\n",
              "}\n",
              "\n",
              "#sk-container-id-3 label.sk-toggleable__label-arrow:before {\n",
              "  /* Arrow on the left of the label */\n",
              "  content: \"▸\";\n",
              "  float: left;\n",
              "  margin-right: 0.25em;\n",
              "  color: var(--sklearn-color-icon);\n",
              "}\n",
              "\n",
              "#sk-container-id-3 label.sk-toggleable__label-arrow:hover:before {\n",
              "  color: var(--sklearn-color-text);\n",
              "}\n",
              "\n",
              "/* Toggleable content - dropdown */\n",
              "\n",
              "#sk-container-id-3 div.sk-toggleable__content {\n",
              "  max-height: 0;\n",
              "  max-width: 0;\n",
              "  overflow: hidden;\n",
              "  text-align: left;\n",
              "  /* unfitted */\n",
              "  background-color: var(--sklearn-color-unfitted-level-0);\n",
              "}\n",
              "\n",
              "#sk-container-id-3 div.sk-toggleable__content.fitted {\n",
              "  /* fitted */\n",
              "  background-color: var(--sklearn-color-fitted-level-0);\n",
              "}\n",
              "\n",
              "#sk-container-id-3 div.sk-toggleable__content pre {\n",
              "  margin: 0.2em;\n",
              "  border-radius: 0.25em;\n",
              "  color: var(--sklearn-color-text);\n",
              "  /* unfitted */\n",
              "  background-color: var(--sklearn-color-unfitted-level-0);\n",
              "}\n",
              "\n",
              "#sk-container-id-3 div.sk-toggleable__content.fitted pre {\n",
              "  /* unfitted */\n",
              "  background-color: var(--sklearn-color-fitted-level-0);\n",
              "}\n",
              "\n",
              "#sk-container-id-3 input.sk-toggleable__control:checked~div.sk-toggleable__content {\n",
              "  /* Expand drop-down */\n",
              "  max-height: 200px;\n",
              "  max-width: 100%;\n",
              "  overflow: auto;\n",
              "}\n",
              "\n",
              "#sk-container-id-3 input.sk-toggleable__control:checked~label.sk-toggleable__label-arrow:before {\n",
              "  content: \"▾\";\n",
              "}\n",
              "\n",
              "/* Pipeline/ColumnTransformer-specific style */\n",
              "\n",
              "#sk-container-id-3 div.sk-label input.sk-toggleable__control:checked~label.sk-toggleable__label {\n",
              "  color: var(--sklearn-color-text);\n",
              "  background-color: var(--sklearn-color-unfitted-level-2);\n",
              "}\n",
              "\n",
              "#sk-container-id-3 div.sk-label.fitted input.sk-toggleable__control:checked~label.sk-toggleable__label {\n",
              "  background-color: var(--sklearn-color-fitted-level-2);\n",
              "}\n",
              "\n",
              "/* Estimator-specific style */\n",
              "\n",
              "/* Colorize estimator box */\n",
              "#sk-container-id-3 div.sk-estimator input.sk-toggleable__control:checked~label.sk-toggleable__label {\n",
              "  /* unfitted */\n",
              "  background-color: var(--sklearn-color-unfitted-level-2);\n",
              "}\n",
              "\n",
              "#sk-container-id-3 div.sk-estimator.fitted input.sk-toggleable__control:checked~label.sk-toggleable__label {\n",
              "  /* fitted */\n",
              "  background-color: var(--sklearn-color-fitted-level-2);\n",
              "}\n",
              "\n",
              "#sk-container-id-3 div.sk-label label.sk-toggleable__label,\n",
              "#sk-container-id-3 div.sk-label label {\n",
              "  /* The background is the default theme color */\n",
              "  color: var(--sklearn-color-text-on-default-background);\n",
              "}\n",
              "\n",
              "/* On hover, darken the color of the background */\n",
              "#sk-container-id-3 div.sk-label:hover label.sk-toggleable__label {\n",
              "  color: var(--sklearn-color-text);\n",
              "  background-color: var(--sklearn-color-unfitted-level-2);\n",
              "}\n",
              "\n",
              "/* Label box, darken color on hover, fitted */\n",
              "#sk-container-id-3 div.sk-label.fitted:hover label.sk-toggleable__label.fitted {\n",
              "  color: var(--sklearn-color-text);\n",
              "  background-color: var(--sklearn-color-fitted-level-2);\n",
              "}\n",
              "\n",
              "/* Estimator label */\n",
              "\n",
              "#sk-container-id-3 div.sk-label label {\n",
              "  font-family: monospace;\n",
              "  font-weight: bold;\n",
              "  display: inline-block;\n",
              "  line-height: 1.2em;\n",
              "}\n",
              "\n",
              "#sk-container-id-3 div.sk-label-container {\n",
              "  text-align: center;\n",
              "}\n",
              "\n",
              "/* Estimator-specific */\n",
              "#sk-container-id-3 div.sk-estimator {\n",
              "  font-family: monospace;\n",
              "  border: 1px dotted var(--sklearn-color-border-box);\n",
              "  border-radius: 0.25em;\n",
              "  box-sizing: border-box;\n",
              "  margin-bottom: 0.5em;\n",
              "  /* unfitted */\n",
              "  background-color: var(--sklearn-color-unfitted-level-0);\n",
              "}\n",
              "\n",
              "#sk-container-id-3 div.sk-estimator.fitted {\n",
              "  /* fitted */\n",
              "  background-color: var(--sklearn-color-fitted-level-0);\n",
              "}\n",
              "\n",
              "/* on hover */\n",
              "#sk-container-id-3 div.sk-estimator:hover {\n",
              "  /* unfitted */\n",
              "  background-color: var(--sklearn-color-unfitted-level-2);\n",
              "}\n",
              "\n",
              "#sk-container-id-3 div.sk-estimator.fitted:hover {\n",
              "  /* fitted */\n",
              "  background-color: var(--sklearn-color-fitted-level-2);\n",
              "}\n",
              "\n",
              "/* Specification for estimator info (e.g. \"i\" and \"?\") */\n",
              "\n",
              "/* Common style for \"i\" and \"?\" */\n",
              "\n",
              ".sk-estimator-doc-link,\n",
              "a:link.sk-estimator-doc-link,\n",
              "a:visited.sk-estimator-doc-link {\n",
              "  float: right;\n",
              "  font-size: smaller;\n",
              "  line-height: 1em;\n",
              "  font-family: monospace;\n",
              "  background-color: var(--sklearn-color-background);\n",
              "  border-radius: 1em;\n",
              "  height: 1em;\n",
              "  width: 1em;\n",
              "  text-decoration: none !important;\n",
              "  margin-left: 0.5em;\n",
              "  text-align: center;\n",
              "  /* unfitted */\n",
              "  border: var(--sklearn-color-unfitted-level-1) 1pt solid;\n",
              "  color: var(--sklearn-color-unfitted-level-1);\n",
              "}\n",
              "\n",
              ".sk-estimator-doc-link.fitted,\n",
              "a:link.sk-estimator-doc-link.fitted,\n",
              "a:visited.sk-estimator-doc-link.fitted {\n",
              "  /* fitted */\n",
              "  border: var(--sklearn-color-fitted-level-1) 1pt solid;\n",
              "  color: var(--sklearn-color-fitted-level-1);\n",
              "}\n",
              "\n",
              "/* On hover */\n",
              "div.sk-estimator:hover .sk-estimator-doc-link:hover,\n",
              ".sk-estimator-doc-link:hover,\n",
              "div.sk-label-container:hover .sk-estimator-doc-link:hover,\n",
              ".sk-estimator-doc-link:hover {\n",
              "  /* unfitted */\n",
              "  background-color: var(--sklearn-color-unfitted-level-3);\n",
              "  color: var(--sklearn-color-background);\n",
              "  text-decoration: none;\n",
              "}\n",
              "\n",
              "div.sk-estimator.fitted:hover .sk-estimator-doc-link.fitted:hover,\n",
              ".sk-estimator-doc-link.fitted:hover,\n",
              "div.sk-label-container:hover .sk-estimator-doc-link.fitted:hover,\n",
              ".sk-estimator-doc-link.fitted:hover {\n",
              "  /* fitted */\n",
              "  background-color: var(--sklearn-color-fitted-level-3);\n",
              "  color: var(--sklearn-color-background);\n",
              "  text-decoration: none;\n",
              "}\n",
              "\n",
              "/* Span, style for the box shown on hovering the info icon */\n",
              ".sk-estimator-doc-link span {\n",
              "  display: none;\n",
              "  z-index: 9999;\n",
              "  position: relative;\n",
              "  font-weight: normal;\n",
              "  right: .2ex;\n",
              "  padding: .5ex;\n",
              "  margin: .5ex;\n",
              "  width: min-content;\n",
              "  min-width: 20ex;\n",
              "  max-width: 50ex;\n",
              "  color: var(--sklearn-color-text);\n",
              "  box-shadow: 2pt 2pt 4pt #999;\n",
              "  /* unfitted */\n",
              "  background: var(--sklearn-color-unfitted-level-0);\n",
              "  border: .5pt solid var(--sklearn-color-unfitted-level-3);\n",
              "}\n",
              "\n",
              ".sk-estimator-doc-link.fitted span {\n",
              "  /* fitted */\n",
              "  background: var(--sklearn-color-fitted-level-0);\n",
              "  border: var(--sklearn-color-fitted-level-3);\n",
              "}\n",
              "\n",
              ".sk-estimator-doc-link:hover span {\n",
              "  display: block;\n",
              "}\n",
              "\n",
              "/* \"?\"-specific style due to the `<a>` HTML tag */\n",
              "\n",
              "#sk-container-id-3 a.estimator_doc_link {\n",
              "  float: right;\n",
              "  font-size: 1rem;\n",
              "  line-height: 1em;\n",
              "  font-family: monospace;\n",
              "  background-color: var(--sklearn-color-background);\n",
              "  border-radius: 1rem;\n",
              "  height: 1rem;\n",
              "  width: 1rem;\n",
              "  text-decoration: none;\n",
              "  /* unfitted */\n",
              "  color: var(--sklearn-color-unfitted-level-1);\n",
              "  border: var(--sklearn-color-unfitted-level-1) 1pt solid;\n",
              "}\n",
              "\n",
              "#sk-container-id-3 a.estimator_doc_link.fitted {\n",
              "  /* fitted */\n",
              "  border: var(--sklearn-color-fitted-level-1) 1pt solid;\n",
              "  color: var(--sklearn-color-fitted-level-1);\n",
              "}\n",
              "\n",
              "/* On hover */\n",
              "#sk-container-id-3 a.estimator_doc_link:hover {\n",
              "  /* unfitted */\n",
              "  background-color: var(--sklearn-color-unfitted-level-3);\n",
              "  color: var(--sklearn-color-background);\n",
              "  text-decoration: none;\n",
              "}\n",
              "\n",
              "#sk-container-id-3 a.estimator_doc_link.fitted:hover {\n",
              "  /* fitted */\n",
              "  background-color: var(--sklearn-color-fitted-level-3);\n",
              "}\n",
              "</style><div id=\"sk-container-id-3\" class=\"sk-top-container\"><div class=\"sk-text-repr-fallback\"><pre>LinearRegression()</pre><b>In a Jupyter environment, please rerun this cell to show the HTML representation or trust the notebook. <br />On GitHub, the HTML representation is unable to render, please try loading this page with nbviewer.org.</b></div><div class=\"sk-container\" hidden><div class=\"sk-item\"><div class=\"sk-estimator fitted sk-toggleable\"><input class=\"sk-toggleable__control sk-hidden--visually\" id=\"sk-estimator-id-3\" type=\"checkbox\" checked><label for=\"sk-estimator-id-3\" class=\"sk-toggleable__label fitted sk-toggleable__label-arrow\"><div><div>LinearRegression</div></div><div><a class=\"sk-estimator-doc-link fitted\" rel=\"noreferrer\" target=\"_blank\" href=\"https://scikit-learn.org/1.6/modules/generated/sklearn.linear_model.LinearRegression.html\">?<span>Documentation for LinearRegression</span></a><span class=\"sk-estimator-doc-link fitted\">i<span>Fitted</span></span></div></label><div class=\"sk-toggleable__content fitted\"><pre>LinearRegression()</pre></div> </div></div></div></div>"
            ]
          },
          "metadata": {},
          "execution_count": 98
        }
      ]
    },
    {
      "cell_type": "code",
      "source": [
        "y_pred_train = lr_model.predict(X_train)\n",
        "y_pred_train"
      ],
      "metadata": {
        "colab": {
          "base_uri": "https://localhost:8080/"
        },
        "id": "EnRu-dFIHbpO",
        "outputId": "90df27e8-9469-4831-ff94-2c8bff1274fd"
      },
      "execution_count": null,
      "outputs": [
        {
          "output_type": "execute_result",
          "data": {
            "text/plain": [
              "array([52.02223727, 39.39391742, 17.05150538, 33.56546211, 46.19378196,\n",
              "       88.93578761, 85.05015073, 36.47968977, 28.70841601, 20.93714226,\n",
              "       49.10800962, 61.73632947, 78.25028619, 55.90787415, 77.27887697,\n",
              "       13.1658685 , 74.36464932, 91.85001526])"
            ]
          },
          "metadata": {},
          "execution_count": 100
        }
      ]
    },
    {
      "cell_type": "code",
      "source": [
        "y_train\n",
        "y.astype('float64')"
      ],
      "metadata": {
        "colab": {
          "base_uri": "https://localhost:8080/",
          "height": 868
        },
        "id": "6MUS8dERHzIG",
        "outputId": "b0b9329a-5689-4879-a4b6-51afb006ec55"
      },
      "execution_count": null,
      "outputs": [
        {
          "output_type": "execute_result",
          "data": {
            "text/plain": [
              "0     21.0\n",
              "1     47.0\n",
              "2     27.0\n",
              "3     75.0\n",
              "4     30.0\n",
              "5     20.0\n",
              "6     88.0\n",
              "7     60.0\n",
              "8     81.0\n",
              "9     25.0\n",
              "10    85.0\n",
              "11    62.0\n",
              "12    41.0\n",
              "13    42.0\n",
              "14    17.0\n",
              "15    95.0\n",
              "16    30.0\n",
              "17    24.0\n",
              "18    67.0\n",
              "19    69.0\n",
              "20    30.0\n",
              "21    54.0\n",
              "22    35.0\n",
              "23    76.0\n",
              "24    86.0\n",
              "Name: Scores, dtype: float64"
            ],
            "text/html": [
              "<div>\n",
              "<style scoped>\n",
              "    .dataframe tbody tr th:only-of-type {\n",
              "        vertical-align: middle;\n",
              "    }\n",
              "\n",
              "    .dataframe tbody tr th {\n",
              "        vertical-align: top;\n",
              "    }\n",
              "\n",
              "    .dataframe thead th {\n",
              "        text-align: right;\n",
              "    }\n",
              "</style>\n",
              "<table border=\"1\" class=\"dataframe\">\n",
              "  <thead>\n",
              "    <tr style=\"text-align: right;\">\n",
              "      <th></th>\n",
              "      <th>Scores</th>\n",
              "    </tr>\n",
              "  </thead>\n",
              "  <tbody>\n",
              "    <tr>\n",
              "      <th>0</th>\n",
              "      <td>21.0</td>\n",
              "    </tr>\n",
              "    <tr>\n",
              "      <th>1</th>\n",
              "      <td>47.0</td>\n",
              "    </tr>\n",
              "    <tr>\n",
              "      <th>2</th>\n",
              "      <td>27.0</td>\n",
              "    </tr>\n",
              "    <tr>\n",
              "      <th>3</th>\n",
              "      <td>75.0</td>\n",
              "    </tr>\n",
              "    <tr>\n",
              "      <th>4</th>\n",
              "      <td>30.0</td>\n",
              "    </tr>\n",
              "    <tr>\n",
              "      <th>5</th>\n",
              "      <td>20.0</td>\n",
              "    </tr>\n",
              "    <tr>\n",
              "      <th>6</th>\n",
              "      <td>88.0</td>\n",
              "    </tr>\n",
              "    <tr>\n",
              "      <th>7</th>\n",
              "      <td>60.0</td>\n",
              "    </tr>\n",
              "    <tr>\n",
              "      <th>8</th>\n",
              "      <td>81.0</td>\n",
              "    </tr>\n",
              "    <tr>\n",
              "      <th>9</th>\n",
              "      <td>25.0</td>\n",
              "    </tr>\n",
              "    <tr>\n",
              "      <th>10</th>\n",
              "      <td>85.0</td>\n",
              "    </tr>\n",
              "    <tr>\n",
              "      <th>11</th>\n",
              "      <td>62.0</td>\n",
              "    </tr>\n",
              "    <tr>\n",
              "      <th>12</th>\n",
              "      <td>41.0</td>\n",
              "    </tr>\n",
              "    <tr>\n",
              "      <th>13</th>\n",
              "      <td>42.0</td>\n",
              "    </tr>\n",
              "    <tr>\n",
              "      <th>14</th>\n",
              "      <td>17.0</td>\n",
              "    </tr>\n",
              "    <tr>\n",
              "      <th>15</th>\n",
              "      <td>95.0</td>\n",
              "    </tr>\n",
              "    <tr>\n",
              "      <th>16</th>\n",
              "      <td>30.0</td>\n",
              "    </tr>\n",
              "    <tr>\n",
              "      <th>17</th>\n",
              "      <td>24.0</td>\n",
              "    </tr>\n",
              "    <tr>\n",
              "      <th>18</th>\n",
              "      <td>67.0</td>\n",
              "    </tr>\n",
              "    <tr>\n",
              "      <th>19</th>\n",
              "      <td>69.0</td>\n",
              "    </tr>\n",
              "    <tr>\n",
              "      <th>20</th>\n",
              "      <td>30.0</td>\n",
              "    </tr>\n",
              "    <tr>\n",
              "      <th>21</th>\n",
              "      <td>54.0</td>\n",
              "    </tr>\n",
              "    <tr>\n",
              "      <th>22</th>\n",
              "      <td>35.0</td>\n",
              "    </tr>\n",
              "    <tr>\n",
              "      <th>23</th>\n",
              "      <td>76.0</td>\n",
              "    </tr>\n",
              "    <tr>\n",
              "      <th>24</th>\n",
              "      <td>86.0</td>\n",
              "    </tr>\n",
              "  </tbody>\n",
              "</table>\n",
              "</div><br><label><b>dtype:</b> float64</label>"
            ]
          },
          "metadata": {},
          "execution_count": 102
        }
      ]
    },
    {
      "cell_type": "code",
      "source": [
        "y_pred = lr_model.predict(X_test)"
      ],
      "metadata": {
        "id": "dX3RRBuiIOYW"
      },
      "execution_count": null,
      "outputs": []
    },
    {
      "cell_type": "code",
      "source": [
        "y_pred"
      ],
      "metadata": {
        "id": "XgDmKMtriMbQ",
        "colab": {
          "base_uri": "https://localhost:8080/"
        },
        "outputId": "ffe60818-200d-438d-fb75-8c7b18985002"
      },
      "execution_count": null,
      "outputs": [
        {
          "output_type": "execute_result",
          "data": {
            "text/plain": [
              "array([83.10733229, 26.76559757, 26.76559757, 69.50760322, 59.79351103,\n",
              "       28.70841601, 34.53687133])"
            ]
          },
          "metadata": {},
          "execution_count": 105
        }
      ]
    },
    {
      "cell_type": "code",
      "source": [
        "c= [i for i in range (1,len(y_test)+1,1)]\n",
        "plt.plot(c,y_test, color='r', linestyle='-', label='Actual Data')\n",
        "plt.plot(c,y_pred, color='b', linestyle='dashed', label='Prediction')\n",
        "plt.xlabel('Hours')\n",
        "plt.ylabel('Scores')\n",
        "plt.title('Prediction with Linear Regression')\n",
        "plt.legend()\n",
        "plt.show()"
      ],
      "metadata": {
        "colab": {
          "base_uri": "https://localhost:8080/",
          "height": 472
        },
        "id": "EnfAqDnqIlkt",
        "outputId": "be5656a9-00ef-4704-af63-7bc44444c80f"
      },
      "execution_count": null,
      "outputs": [
        {
          "output_type": "display_data",
          "data": {
            "text/plain": [
              "<Figure size 640x480 with 1 Axes>"
            ],
            "image/png": "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\n"
          },
          "metadata": {}
        }
      ]
    },
    {
      "cell_type": "code",
      "source": [
        "# Importing metrics for the evaluation of the model\n",
        "from sklearn.metrics import r2_score,mean_squared_error\n"
      ],
      "metadata": {
        "id": "ThO8VQyFI6X9"
      },
      "execution_count": null,
      "outputs": []
    },
    {
      "cell_type": "code",
      "source": [
        " # Calculate R square vale\n",
        "rsq = r2_score (y_test,y_pred)\n",
        "print('r square Linear Regression:', rsq)\n"
      ],
      "metadata": {
        "colab": {
          "base_uri": "https://localhost:8080/"
        },
        "id": "jjzLaJc6JTEs",
        "outputId": "66f1131e-d3c3-4eb9-a113-2117197f2440"
      },
      "execution_count": null,
      "outputs": [
        {
          "output_type": "stream",
          "name": "stdout",
          "text": [
            "r square Linear Regression: 0.9553509219739938\n"
          ]
        }
      ]
    },
    {
      "cell_type": "code",
      "source": [
        "#Intecept and coeff of the line\n",
        "print('Intercept of the Linear Regression model:',lr_model.intercept_)\n",
        "print('Coefficient of the line Linear Regression:', lr_model.coef_)"
      ],
      "metadata": {
        "colab": {
          "base_uri": "https://localhost:8080/"
        },
        "id": "nImwby_ZJVo7",
        "outputId": "e5008386-cb91-4964-a68d-b01026135a83"
      },
      "execution_count": null,
      "outputs": [
        {
          "output_type": "stream",
          "name": "stdout",
          "text": [
            "Intercept of the Linear Regression model: 2.4803670915057623\n",
            "Coefficient of the line Linear Regression: [9.71409219]\n"
          ]
        }
      ]
    },
    {
      "cell_type": "markdown",
      "source": [
        "y = 2.48 + 9.714 x"
      ],
      "metadata": {
        "id": "peVIaoInL5zo"
      }
    },
    {
      "cell_type": "code",
      "source": [
        "\n",
        "X_test"
      ],
      "metadata": {
        "colab": {
          "base_uri": "https://localhost:8080/"
        },
        "id": "aXQT9evYMrl3",
        "outputId": "244d00d4-5800-4c37-e6b9-37fcf0befad6"
      },
      "execution_count": null,
      "outputs": [
        {
          "output_type": "execute_result",
          "data": {
            "text/plain": [
              "array([[8.3],\n",
              "       [2.5],\n",
              "       [2.5],\n",
              "       [6.9],\n",
              "       [5.9],\n",
              "       [2.7],\n",
              "       [3.3]])"
            ]
          },
          "metadata": {},
          "execution_count": 123
        }
      ]
    },
    {
      "cell_type": "code",
      "source": [
        "#y_test = ?\n",
        "#x_test =  8.3\n",
        "#y 25478.12 + 9731.016 *  8.3\n",
        "nilai_y = 2.48 + 9.714 *  8.3\n",
        "print('nilai y', nilai_y)"
      ],
      "metadata": {
        "colab": {
          "base_uri": "https://localhost:8080/"
        },
        "id": "17TDsBlAJ8BT",
        "outputId": "64e1553e-4f33-4add-d36f-2549d3812bf3"
      },
      "execution_count": null,
      "outputs": [
        {
          "output_type": "stream",
          "name": "stdout",
          "text": [
            "nilai y 83.10620000000002\n"
          ]
        }
      ]
    },
    {
      "cell_type": "code",
      "source": [
        "X_test"
      ],
      "metadata": {
        "id": "ME_boq5NiMdw",
        "colab": {
          "base_uri": "https://localhost:8080/"
        },
        "outputId": "e65dedbd-b0c3-466d-d46b-669dcbe5159a"
      },
      "execution_count": null,
      "outputs": [
        {
          "output_type": "execute_result",
          "data": {
            "text/plain": [
              "array([[8.3],\n",
              "       [2.5],\n",
              "       [2.5],\n",
              "       [6.9],\n",
              "       [5.9],\n",
              "       [2.7],\n",
              "       [3.3]])"
            ]
          },
          "metadata": {},
          "execution_count": 104
        }
      ]
    },
    {
      "cell_type": "code",
      "source": [
        "from sklearn.tree import DecisionTreeRegressor # mahasiswa B\n",
        "dt_model = DecisionTreeRegressor()\n",
        "dt_model.fit(X_train, y_train)\n",
        "\n",
        "y_pred_dt = dt_model.predict(X_test)"
      ],
      "metadata": {
        "id": "kQAhZURYKuqr"
      },
      "execution_count": null,
      "outputs": []
    },
    {
      "cell_type": "code",
      "source": [
        "y_pred_dt"
      ],
      "metadata": {
        "colab": {
          "base_uri": "https://localhost:8080/"
        },
        "id": "4nBQ7X-EN9CX",
        "outputId": "8f3d5fee-5575-455e-90c3-87e721a64717"
      },
      "execution_count": null,
      "outputs": [
        {
          "output_type": "execute_result",
          "data": {
            "text/plain": [
              "array([75., 30., 30., 69., 67., 30., 27.])"
            ]
          },
          "metadata": {},
          "execution_count": 134
        }
      ]
    },
    {
      "cell_type": "code",
      "source": [
        "y_test\n"
      ],
      "metadata": {
        "colab": {
          "base_uri": "https://localhost:8080/",
          "height": 303
        },
        "id": "VA1XURcmN-0-",
        "outputId": "880a80ed-c81c-4f29-8ef7-62f01d841065"
      },
      "execution_count": null,
      "outputs": [
        {
          "output_type": "execute_result",
          "data": {
            "text/plain": [
              "8     81\n",
              "16    30\n",
              "0     21\n",
              "23    76\n",
              "11    62\n",
              "9     25\n",
              "13    42\n",
              "Name: Scores, dtype: int64"
            ],
            "text/html": [
              "<div>\n",
              "<style scoped>\n",
              "    .dataframe tbody tr th:only-of-type {\n",
              "        vertical-align: middle;\n",
              "    }\n",
              "\n",
              "    .dataframe tbody tr th {\n",
              "        vertical-align: top;\n",
              "    }\n",
              "\n",
              "    .dataframe thead th {\n",
              "        text-align: right;\n",
              "    }\n",
              "</style>\n",
              "<table border=\"1\" class=\"dataframe\">\n",
              "  <thead>\n",
              "    <tr style=\"text-align: right;\">\n",
              "      <th></th>\n",
              "      <th>Scores</th>\n",
              "    </tr>\n",
              "  </thead>\n",
              "  <tbody>\n",
              "    <tr>\n",
              "      <th>8</th>\n",
              "      <td>81</td>\n",
              "    </tr>\n",
              "    <tr>\n",
              "      <th>16</th>\n",
              "      <td>30</td>\n",
              "    </tr>\n",
              "    <tr>\n",
              "      <th>0</th>\n",
              "      <td>21</td>\n",
              "    </tr>\n",
              "    <tr>\n",
              "      <th>23</th>\n",
              "      <td>76</td>\n",
              "    </tr>\n",
              "    <tr>\n",
              "      <th>11</th>\n",
              "      <td>62</td>\n",
              "    </tr>\n",
              "    <tr>\n",
              "      <th>9</th>\n",
              "      <td>25</td>\n",
              "    </tr>\n",
              "    <tr>\n",
              "      <th>13</th>\n",
              "      <td>42</td>\n",
              "    </tr>\n",
              "  </tbody>\n",
              "</table>\n",
              "</div><br><label><b>dtype:</b> int64</label>"
            ]
          },
          "metadata": {},
          "execution_count": 138
        }
      ]
    },
    {
      "cell_type": "code",
      "source": [
        "c= [i for i in range (1,len(y_test)+1,1)]\n",
        "plt.plot(c,y_test, color='r', linestyle='-', label='Actual Data')\n",
        "plt.plot(c,y_pred_dt,color='b', linestyle='dashed', label='Prediction')\n",
        "plt.xlabel('Hours')\n",
        "plt.ylabel('Scores')\n",
        "plt.title('Prediction with Decision Tree')\n",
        "plt.legend()\n",
        "plt.show()\n"
      ],
      "metadata": {
        "colab": {
          "base_uri": "https://localhost:8080/",
          "height": 472
        },
        "id": "JYoaeKotOPqN",
        "outputId": "e4f45750-34a6-4e5a-ee67-5e8a12d6535b"
      },
      "execution_count": null,
      "outputs": [
        {
          "output_type": "display_data",
          "data": {
            "text/plain": [
              "<Figure size 640x480 with 1 Axes>"
            ],
            "image/png": "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\n"
          },
          "metadata": {}
        }
      ]
    },
    {
      "cell_type": "code",
      "source": [
        "rsq_dt = r2_score(y_test,y_pred_dt)\n",
        "\n",
        "print('r Square Decision Tree Result : ',rsq_dt)"
      ],
      "metadata": {
        "colab": {
          "base_uri": "https://localhost:8080/"
        },
        "id": "bpz7IunkOpU2",
        "outputId": "962360e6-968a-4c13-cb7c-4af143d730d9"
      },
      "execution_count": null,
      "outputs": [
        {
          "output_type": "stream",
          "name": "stdout",
          "text": [
            "r Square Decision Tree Result :  0.8803859268443893\n"
          ]
        }
      ]
    },
    {
      "cell_type": "markdown",
      "source": [
        "4. Secara keseluruhan, model Linear Regression yang digunakan menunjukkan performa yang sangat baik. Dengan nilai R-squared sebesar 0,9553, model mampu menjelaskan sebagian besar variabilitas data, sedangkan nilai RMSE yang rendah (0,8804) mengindikasikan bahwa prediksi model mendekati nilai aktual. Jadi, kedua metrik ini mendukung bahwa model yang digunakan memiliki kinerja yang optimal dalam memprediksi data.\n",
        "\n",
        "5. lebih baik linear regression karena mendekati anga 1 value rmse nya"
      ],
      "metadata": {
        "id": "-GNQ_6jSPNDr"
      }
    }
  ],
  "metadata": {
    "colab": {
      "provenance": []
    },
    "kernelspec": {
      "display_name": "Python 3",
      "name": "python3"
    },
    "language_info": {
      "name": "python"
    }
  },
  "nbformat": 4,
  "nbformat_minor": 0
}

        "- Check Duplicated Data\n",
        "- Check Missing Value Handling\n",
        "- Outlier Analysis\n",
        "3. Lakukan modelling machine learning regression : gunakan minimal 2 model (linear regression, decision tree regressor, atau random forest regressor)\n",
        "4. Lakukan evaluasi model\n",
        "5. Berikan kesimpulan model mana yang terbaik performanya"
      ]
    },
    {
      "cell_type": "code",
      "execution_count": null,
      "metadata": {
        "id": "5N-ANQk2yXtK"
      },
      "outputs": [],
      "source": [
        "# Import libraries and resources\n",
        "import pandas as pd\n",
        "import numpy as np\n",
        "import matplotlib\n",
        "import matplotlib.pyplot as plt\n",
        "import seaborn as sns"
      ]
    },
    {
      "cell_type": "code",
      "source": [
        "dataset = pd.read_csv('sample_data/student_scores.csv')\n",
        "dataset.head()\n",
        "dataset.info()\n",
        "dataset.describe()"
      ],
      "metadata": {
        "colab": {
          "base_uri": "https://localhost:8080/",
          "height": 456
        },
        "collapsed": true,
        "id": "rKii0k6q78tY",
        "outputId": "f694f63a-991b-49f6-e673-a281e317327e"
      },
      "execution_count": null,
      "outputs": [
        {
          "output_type": "stream",
          "name": "stdout",
          "text": [
            "<class 'pandas.core.frame.DataFrame'>\n",
            "RangeIndex: 25 entries, 0 to 24\n",
            "Data columns (total 2 columns):\n",
            " #   Column  Non-Null Count  Dtype  \n",
            "---  ------  --------------  -----  \n",
            " 0   Hours   25 non-null     float64\n",
            " 1   Scores  25 non-null     int64  \n",
            "dtypes: float64(1), int64(1)\n",
            "memory usage: 532.0 bytes\n"
          ]
        },
        {
          "output_type": "execute_result",
          "data": {
            "text/plain": [
              "           Hours     Scores\n",
              "count  25.000000  25.000000\n",
              "mean    5.012000  51.480000\n",
              "std     2.525094  25.286887\n",
              "min     1.100000  17.000000\n",
              "25%     2.700000  30.000000\n",
              "50%     4.800000  47.000000\n",
              "75%     7.400000  75.000000\n",
              "max     9.200000  95.000000"
            ],
            "text/html": [
              "\n",
              "  <div id=\"df-d793a93f-c20f-4da6-aedd-22877f20135d\" class=\"colab-df-container\">\n",
              "    <div>\n",
              "<style scoped>\n",
              "    .dataframe tbody tr th:only-of-type {\n",
              "        vertical-align: middle;\n",
              "    }\n",
              "\n",
              "    .dataframe tbody tr th {\n",
              "        vertical-align: top;\n",
              "    }\n",
              "\n",
              "    .dataframe thead th {\n",
              "        text-align: right;\n",
              "    }\n",
              "</style>\n",
              "<table border=\"1\" class=\"dataframe\">\n",
              "  <thead>\n",
              "    <tr style=\"text-align: right;\">\n",
              "      <th></th>\n",
              "      <th>Hours</th>\n",
              "      <th>Scores</th>\n",
              "    </tr>\n",
              "  </thead>\n",
              "  <tbody>\n",
              "    <tr>\n",
              "      <th>count</th>\n",
              "      <td>25.000000</td>\n",
              "      <td>25.000000</td>\n",
              "    </tr>\n",
              "    <tr>\n",
              "      <th>mean</th>\n",
              "      <td>5.012000</td>\n",
              "      <td>51.480000</td>\n",
              "    </tr>\n",
              "    <tr>\n",
              "      <th>std</th>\n",
              "      <td>2.525094</td>\n",
              "      <td>25.286887</td>\n",
              "    </tr>\n",
              "    <tr>\n",
              "      <th>min</th>\n",
              "      <td>1.100000</td>\n",
              "      <td>17.000000</td>\n",
              "    </tr>\n",
              "    <tr>\n",
              "      <th>25%</th>\n",
              "      <td>2.700000</td>\n",
              "      <td>30.000000</td>\n",
              "    </tr>\n",
              "    <tr>\n",
              "      <th>50%</th>\n",
              "      <td>4.800000</td>\n",
              "      <td>47.000000</td>\n",
              "    </tr>\n",
              "    <tr>\n",
              "      <th>75%</th>\n",
              "      <td>7.400000</td>\n",
              "      <td>75.000000</td>\n",
              "    </tr>\n",
              "    <tr>\n",
              "      <th>max</th>\n",
              "      <td>9.200000</td>\n",
              "      <td>95.000000</td>\n",
              "    </tr>\n",
              "  </tbody>\n",
              "</table>\n",
              "</div>\n",
              "    <div class=\"colab-df-buttons\">\n",
              "\n",
              "  <div class=\"colab-df-container\">\n",
              "    <button class=\"colab-df-convert\" onclick=\"convertToInteractive('df-d793a93f-c20f-4da6-aedd-22877f20135d')\"\n",
              "            title=\"Convert this dataframe to an interactive table.\"\n",
              "            style=\"display:none;\">\n",
              "\n",
              "  <svg xmlns=\"http://www.w3.org/2000/svg\" height=\"24px\" viewBox=\"0 -960 960 960\">\n",
              "    <path d=\"M120-120v-720h720v720H120Zm60-500h600v-160H180v160Zm220 220h160v-160H400v160Zm0 220h160v-160H400v160ZM180-400h160v-160H180v160Zm440 0h160v-160H620v160ZM180-180h160v-160H180v160Zm440 0h160v-160H620v160Z\"/>\n",
              "  </svg>\n",
              "    </button>\n",
              "\n",
              "  <style>\n",
              "    .colab-df-container {\n",
              "      display:flex;\n",
              "      gap: 12px;\n",
              "    }\n",
              "\n",
              "    .colab-df-convert {\n",
              "      background-color: #E8F0FE;\n",
              "      border: none;\n",
              "      border-radius: 50%;\n",
              "      cursor: pointer;\n",
              "      display: none;\n",
              "      fill: #1967D2;\n",
              "      height: 32px;\n",
              "      padding: 0 0 0 0;\n",
              "      width: 32px;\n",
              "    }\n",
              "\n",
              "    .colab-df-convert:hover {\n",
              "      background-color: #E2EBFA;\n",
              "      box-shadow: 0px 1px 2px rgba(60, 64, 67, 0.3), 0px 1px 3px 1px rgba(60, 64, 67, 0.15);\n",
              "      fill: #174EA6;\n",
              "    }\n",
              "\n",
              "    .colab-df-buttons div {\n",
              "      margin-bottom: 4px;\n",
              "    }\n",
              "\n",
              "    [theme=dark] .colab-df-convert {\n",
              "      background-color: #3B4455;\n",
              "      fill: #D2E3FC;\n",
              "    }\n",
              "\n",
              "    [theme=dark] .colab-df-convert:hover {\n",
              "      background-color: #434B5C;\n",
              "      box-shadow: 0px 1px 3px 1px rgba(0, 0, 0, 0.15);\n",
              "      filter: drop-shadow(0px 1px 2px rgba(0, 0, 0, 0.3));\n",
              "      fill: #FFFFFF;\n",
              "    }\n",
              "  </style>\n",
              "\n",
              "    <script>\n",
              "      const buttonEl =\n",
              "        document.querySelector('#df-d793a93f-c20f-4da6-aedd-22877f20135d button.colab-df-convert');\n",
              "      buttonEl.style.display =\n",
              "        google.colab.kernel.accessAllowed ? 'block' : 'none';\n",
              "\n",
              "      async function convertToInteractive(key) {\n",
              "        const element = document.querySelector('#df-d793a93f-c20f-4da6-aedd-22877f20135d');\n",
              "        const dataTable =\n",
              "          await google.colab.kernel.invokeFunction('convertToInteractive',\n",
              "                                                    [key], {});\n",
              "        if (!dataTable) return;\n",
              "\n",
              "        const docLinkHtml = 'Like what you see? Visit the ' +\n",
              "          '<a target=\"_blank\" href=https://colab.research.google.com/notebooks/data_table.ipynb>data table notebook</a>'\n",
              "          + ' to learn more about interactive tables.';\n",
              "        element.innerHTML = '';\n",
              "        dataTable['output_type'] = 'display_data';\n",
              "        await google.colab.output.renderOutput(dataTable, element);\n",
              "        const docLink = document.createElement('div');\n",
              "        docLink.innerHTML = docLinkHtml;\n",
              "        element.appendChild(docLink);\n",
              "      }\n",
              "    </script>\n",
              "  </div>\n",
              "\n",
              "\n",
              "<div id=\"df-e43d227d-a7e5-4f0f-950a-dc69cb8853ff\">\n",
              "  <button class=\"colab-df-quickchart\" onclick=\"quickchart('df-e43d227d-a7e5-4f0f-950a-dc69cb8853ff')\"\n",
              "            title=\"Suggest charts\"\n",
              "            style=\"display:none;\">\n",
              "\n",
              "<svg xmlns=\"http://www.w3.org/2000/svg\" height=\"24px\"viewBox=\"0 0 24 24\"\n",
              "     width=\"24px\">\n",
              "    <g>\n",
              "        <path d=\"M19 3H5c-1.1 0-2 .9-2 2v14c0 1.1.9 2 2 2h14c1.1 0 2-.9 2-2V5c0-1.1-.9-2-2-2zM9 17H7v-7h2v7zm4 0h-2V7h2v10zm4 0h-2v-4h2v4z\"/>\n",
              "    </g>\n",
              "</svg>\n",
              "  </button>\n",
              "\n",
              "<style>\n",
              "  .colab-df-quickchart {\n",
              "      --bg-color: #E8F0FE;\n",
              "      --fill-color: #1967D2;\n",
              "      --hover-bg-color: #E2EBFA;\n",
              "      --hover-fill-color: #174EA6;\n",
              "      --disabled-fill-color: #AAA;\n",
              "      --disabled-bg-color: #DDD;\n",
              "  }\n",
              "\n",
              "  [theme=dark] .colab-df-quickchart {\n",
              "      --bg-color: #3B4455;\n",
              "      --fill-color: #D2E3FC;\n",
              "      --hover-bg-color: #434B5C;\n",
              "      --hover-fill-color: #FFFFFF;\n",
              "      --disabled-bg-color: #3B4455;\n",
              "      --disabled-fill-color: #666;\n",
              "  }\n",
              "\n",
              "  .colab-df-quickchart {\n",
              "    background-color: var(--bg-color);\n",
              "    border: none;\n",
              "    border-radius: 50%;\n",
              "    cursor: pointer;\n",
              "    display: none;\n",
              "    fill: var(--fill-color);\n",
              "    height: 32px;\n",
              "    padding: 0;\n",
              "    width: 32px;\n",
              "  }\n",
              "\n",
              "  .colab-df-quickchart:hover {\n",
              "    background-color: var(--hover-bg-color);\n",
              "    box-shadow: 0 1px 2px rgba(60, 64, 67, 0.3), 0 1px 3px 1px rgba(60, 64, 67, 0.15);\n",
              "    fill: var(--button-hover-fill-color);\n",
              "  }\n",
              "\n",
              "  .colab-df-quickchart-complete:disabled,\n",
              "  .colab-df-quickchart-complete:disabled:hover {\n",
              "    background-color: var(--disabled-bg-color);\n",
              "    fill: var(--disabled-fill-color);\n",
              "    box-shadow: none;\n",
              "  }\n",
              "\n",
              "  .colab-df-spinner {\n",
              "    border: 2px solid var(--fill-color);\n",
              "    border-color: transparent;\n",
              "    border-bottom-color: var(--fill-color);\n",
              "    animation:\n",
              "      spin 1s steps(1) infinite;\n",
              "  }\n",
              "\n",
              "  @keyframes spin {\n",
              "    0% {\n",
              "      border-color: transparent;\n",
              "      border-bottom-color: var(--fill-color);\n",
              "      border-left-color: var(--fill-color);\n",
              "    }\n",
              "    20% {\n",
              "      border-color: transparent;\n",
              "      border-left-color: var(--fill-color);\n",
              "      border-top-color: var(--fill-color);\n",
              "    }\n",
              "    30% {\n",
              "      border-color: transparent;\n",
              "      border-left-color: var(--fill-color);\n",
              "      border-top-color: var(--fill-color);\n",
              "      border-right-color: var(--fill-color);\n",
              "    }\n",
              "    40% {\n",
              "      border-color: transparent;\n",
              "      border-right-color: var(--fill-color);\n",
              "      border-top-color: var(--fill-color);\n",
              "    }\n",
              "    60% {\n",
              "      border-color: transparent;\n",
              "      border-right-color: var(--fill-color);\n",
              "    }\n",
              "    80% {\n",
              "      border-color: transparent;\n",
              "      border-right-color: var(--fill-color);\n",
              "      border-bottom-color: var(--fill-color);\n",
              "    }\n",
              "    90% {\n",
              "      border-color: transparent;\n",
              "      border-bottom-color: var(--fill-color);\n",
              "    }\n",
              "  }\n",
              "</style>\n",
              "\n",
              "  <script>\n",
              "    async function quickchart(key) {\n",
              "      const quickchartButtonEl =\n",
              "        document.querySelector('#' + key + ' button');\n",
              "      quickchartButtonEl.disabled = true;  // To prevent multiple clicks.\n",
              "      quickchartButtonEl.classList.add('colab-df-spinner');\n",
              "      try {\n",
              "        const charts = await google.colab.kernel.invokeFunction(\n",
              "            'suggestCharts', [key], {});\n",
              "      } catch (error) {\n",
              "        console.error('Error during call to suggestCharts:', error);\n",
              "      }\n",
              "      quickchartButtonEl.classList.remove('colab-df-spinner');\n",
              "      quickchartButtonEl.classList.add('colab-df-quickchart-complete');\n",
              "    }\n",
              "    (() => {\n",
              "      let quickchartButtonEl =\n",
              "        document.querySelector('#df-e43d227d-a7e5-4f0f-950a-dc69cb8853ff button');\n",
              "      quickchartButtonEl.style.display =\n",
              "        google.colab.kernel.accessAllowed ? 'block' : 'none';\n",
              "    })();\n",
              "  </script>\n",
              "</div>\n",
              "\n",
              "    </div>\n",
              "  </div>\n"
            ],
            "application/vnd.google.colaboratory.intrinsic+json": {
              "type": "dataframe",
              "summary": "{\n  \"name\": \"data\",\n  \"rows\": 8,\n  \"fields\": [\n    {\n      \"column\": \"Hours\",\n      \"properties\": {\n        \"dtype\": \"number\",\n        \"std\": 7.6600982856637465,\n        \"min\": 1.1,\n        \"max\": 25.0,\n        \"num_unique_values\": 8,\n        \"samples\": [\n          5.012,\n          4.8,\n          25.0\n        ],\n        \"semantic_type\": \"\",\n        \"description\": \"\"\n      }\n    },\n    {\n      \"column\": \"Scores\",\n      \"properties\": {\n        \"dtype\": \"number\",\n        \"std\": 27.358571628410314,\n        \"min\": 17.0,\n        \"max\": 95.0,\n        \"num_unique_values\": 8,\n        \"samples\": [\n          51.48,\n          47.0,\n          25.0\n        ],\n        \"semantic_type\": \"\",\n        \"description\": \"\"\n      }\n    }\n  ]\n}"
            }
          },
          "metadata": {},
          "execution_count": 12
        }
      ]
    },
    {
      "cell_type": "code",
      "source": [
        "plt.figure(figsize=(12,6))\n",
        "sns.pairplot(data, x_vars=['Hours'], y_vars=['Scores'], size=7, kind='scatter')"
        "plt.xlabel('Hours')\n",
        "plt.ylabel('Scores')\n",
        "plt.title('The Score')\n",
        "plt.show()"
      ],
      "metadata": {
        "colab": {
          "base_uri": "https://localhost:8080/",
          "height": 786
        },
        "id": "56NZZBaj8p0W",
        "outputId": "0d8bcac4-1d6e-4ccd-f792-31eaf435ba6e"
      },
      "execution_count": null,
      "outputs": [
        {
          "output_type": "stream",
          "name": "stderr",
          "text": [
            "/usr/local/lib/python3.11/dist-packages/seaborn/axisgrid.py:2100: UserWarning: The `size` parameter has been renamed to `height`; please update your code.\n",
            "  warnings.warn(msg, UserWarning)\n"
          ]
        },
        {
          "output_type": "display_data",
          "data": {
            "text/plain": [
              "<Figure size 1200x600 with 0 Axes>"
            ]
          },
          "metadata": {}
        },
        {
          "output_type": "display_data",
          "data": {
            "text/plain": [
              "<Figure size 700x700 with 1 Axes>"
            ],
            "image/png": "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\n"
          },
          "metadata": {}
        }
      ]
    },
    {
      "cell_type": "code",
      "source": [
        "df = data.copy()"
      ],
      "metadata": {
        "id": "k3gi7SMF9s51"
      },
      "execution_count": null,
      "outputs": []
    },
    {
      "cell_type": "code",
      "source": [
        "print(\"Data Sebelum Pemeriksaan Duplikat:\")\n",
        "print(df.shape)"
      ],
      "metadata": {
        "colab": {
          "base_uri": "https://localhost:8080/"
        },
        "id": "LVkJVQU_9xLE",
        "outputId": "7bbe67d4-06cc-4331-81dd-3d87bca68f34"
      },
      "execution_count": null,
      "outputs": [
        {
          "output_type": "stream",
          "name": "stdout",
          "text": [
            "Data Sebelum Pemeriksaan Duplikat:\n",
            "(25, 2)\n"
          ]
        }
      ]
    },
    {
      "cell_type": "code",
      "source": [
        "duplicate_rows_before = df[df.duplicated()]\n",
        "duplicate_rows_before"
      ],
      "metadata": {
        "colab": {
          "base_uri": "https://localhost:8080/",
          "height": 89
        },
        "id": "jBzUWPgC-R7M",
        "outputId": "951a7feb-664e-4063-84f8-65310f7d281f"
      },
      "execution_count": null,
      "outputs": [
        {
          "output_type": "execute_result",
          "data": {
            "text/plain": [
              "Empty DataFrame\n",
              "Columns: [Hours, Scores]\n",
              "Index: []"
            ],
            "text/html": [
              "\n",
              "  <div id=\"df-9443fc81-5b42-4799-84ff-1e1c438f4716\" class=\"colab-df-container\">\n",
              "    <div>\n",
              "<style scoped>\n",
              "    .dataframe tbody tr th:only-of-type {\n",
              "        vertical-align: middle;\n",
              "    }\n",
              "\n",
              "    .dataframe tbody tr th {\n",
              "        vertical-align: top;\n",
              "    }\n",
              "\n",
              "    .dataframe thead th {\n",
              "        text-align: right;\n",
              "    }\n",
              "</style>\n",
              "<table border=\"1\" class=\"dataframe\">\n",
              "  <thead>\n",
              "    <tr style=\"text-align: right;\">\n",
              "      <th></th>\n",
              "      <th>Hours</th>\n",
              "      <th>Scores</th>\n",
              "    </tr>\n",
              "  </thead>\n",
              "  <tbody>\n",
              "  </tbody>\n",
              "</table>\n",
              "</div>\n",
              "    <div class=\"colab-df-buttons\">\n",
              "\n",
              "  <div class=\"colab-df-container\">\n",
              "    <button class=\"colab-df-convert\" onclick=\"convertToInteractive('df-9443fc81-5b42-4799-84ff-1e1c438f4716')\"\n",
              "            title=\"Convert this dataframe to an interactive table.\"\n",
              "            style=\"display:none;\">\n",
              "\n",
              "  <svg xmlns=\"http://www.w3.org/2000/svg\" height=\"24px\" viewBox=\"0 -960 960 960\">\n",
              "    <path d=\"M120-120v-720h720v720H120Zm60-500h600v-160H180v160Zm220 220h160v-160H400v160Zm0 220h160v-160H400v160ZM180-400h160v-160H180v160Zm440 0h160v-160H620v160ZM180-180h160v-160H180v160Zm440 0h160v-160H620v160Z\"/>\n",
              "  </svg>\n",
              "    </button>\n",
              "\n",
              "  <style>\n",
              "    .colab-df-container {\n",
              "      display:flex;\n",
              "      gap: 12px;\n",
              "    }\n",
              "\n",
              "    .colab-df-convert {\n",
              "      background-color: #E8F0FE;\n",
              "      border: none;\n",
              "      border-radius: 50%;\n",
              "      cursor: pointer;\n",
              "      display: none;\n",
              "      fill: #1967D2;\n",
              "      height: 32px;\n",
              "      padding: 0 0 0 0;\n",
              "      width: 32px;\n",
              "    }\n",
              "\n",
              "    .colab-df-convert:hover {\n",
              "      background-color: #E2EBFA;\n",
              "      box-shadow: 0px 1px 2px rgba(60, 64, 67, 0.3), 0px 1px 3px 1px rgba(60, 64, 67, 0.15);\n",
              "      fill: #174EA6;\n",
              "    }\n",
              "\n",
              "    .colab-df-buttons div {\n",
              "      margin-bottom: 4px;\n",
              "    }\n",
              "\n",
              "    [theme=dark] .colab-df-convert {\n",
              "      background-color: #3B4455;\n",
              "      fill: #D2E3FC;\n",
              "    }\n",
              "\n",
              "    [theme=dark] .colab-df-convert:hover {\n",
              "      background-color: #434B5C;\n",
              "      box-shadow: 0px 1px 3px 1px rgba(0, 0, 0, 0.15);\n",
              "      filter: drop-shadow(0px 1px 2px rgba(0, 0, 0, 0.3));\n",
              "      fill: #FFFFFF;\n",
              "    }\n",
              "  </style>\n",
              "\n",
              "    <script>\n",
              "      const buttonEl =\n",
              "        document.querySelector('#df-9443fc81-5b42-4799-84ff-1e1c438f4716 button.colab-df-convert');\n",
              "      buttonEl.style.display =\n",
              "        google.colab.kernel.accessAllowed ? 'block' : 'none';\n",
              "\n",
              "      async function convertToInteractive(key) {\n",
              "        const element = document.querySelector('#df-9443fc81-5b42-4799-84ff-1e1c438f4716');\n",
              "        const dataTable =\n",
              "          await google.colab.kernel.invokeFunction('convertToInteractive',\n",
              "                                                    [key], {});\n",
              "        if (!dataTable) return;\n",
              "\n",
              "        const docLinkHtml = 'Like what you see? Visit the ' +\n",
              "          '<a target=\"_blank\" href=https://colab.research.google.com/notebooks/data_table.ipynb>data table notebook</a>'\n",
              "          + ' to learn more about interactive tables.';\n",
              "        element.innerHTML = '';\n",
              "        dataTable['output_type'] = 'display_data';\n",
              "        await google.colab.output.renderOutput(dataTable, element);\n",
              "        const docLink = document.createElement('div');\n",
              "        docLink.innerHTML = docLinkHtml;\n",
              "        element.appendChild(docLink);\n",
              "      }\n",
              "    </script>\n",
              "  </div>\n",
              "\n",
              "\n",
              "  <div id=\"id_daf098e2-94dc-4308-8f53-bb4a57321e12\">\n",
              "    <style>\n",
              "      .colab-df-generate {\n",
              "        background-color: #E8F0FE;\n",
              "        border: none;\n",
              "        border-radius: 50%;\n",
              "        cursor: pointer;\n",
              "        display: none;\n",
              "        fill: #1967D2;\n",
              "        height: 32px;\n",
              "        padding: 0 0 0 0;\n",
              "        width: 32px;\n",
              "      }\n",
              "\n",
              "      .colab-df-generate:hover {\n",
              "        background-color: #E2EBFA;\n",
              "        box-shadow: 0px 1px 2px rgba(60, 64, 67, 0.3), 0px 1px 3px 1px rgba(60, 64, 67, 0.15);\n",
              "        fill: #174EA6;\n",
              "      }\n",
              "\n",
              "      [theme=dark] .colab-df-generate {\n",
              "        background-color: #3B4455;\n",
              "        fill: #D2E3FC;\n",
              "      }\n",
              "\n",
              "      [theme=dark] .colab-df-generate:hover {\n",
              "        background-color: #434B5C;\n",
              "        box-shadow: 0px 1px 3px 1px rgba(0, 0, 0, 0.15);\n",
              "        filter: drop-shadow(0px 1px 2px rgba(0, 0, 0, 0.3));\n",
              "        fill: #FFFFFF;\n",
              "      }\n",
              "    </style>\n",
              "    <button class=\"colab-df-generate\" onclick=\"generateWithVariable('duplicate_rows_before')\"\n",
              "            title=\"Generate code using this dataframe.\"\n",
              "            style=\"display:none;\">\n",
              "\n",
              "  <svg xmlns=\"http://www.w3.org/2000/svg\" height=\"24px\"viewBox=\"0 0 24 24\"\n",
              "       width=\"24px\">\n",
              "    <path d=\"M7,19H8.4L18.45,9,17,7.55,7,17.6ZM5,21V16.75L18.45,3.32a2,2,0,0,1,2.83,0l1.4,1.43a1.91,1.91,0,0,1,.58,1.4,1.91,1.91,0,0,1-.58,1.4L9.25,21ZM18.45,9,17,7.55Zm-12,3A5.31,5.31,0,0,0,4.9,8.1,5.31,5.31,0,0,0,1,6.5,5.31,5.31,0,0,0,4.9,4.9,5.31,5.31,0,0,0,6.5,1,5.31,5.31,0,0,0,8.1,4.9,5.31,5.31,0,0,0,12,6.5,5.46,5.46,0,0,0,6.5,12Z\"/>\n",
              "  </svg>\n",
              "    </button>\n",
              "    <script>\n",
              "      (() => {\n",
              "      const buttonEl =\n",
              "        document.querySelector('#id_daf098e2-94dc-4308-8f53-bb4a57321e12 button.colab-df-generate');\n",
              "      buttonEl.style.display =\n",
              "        google.colab.kernel.accessAllowed ? 'block' : 'none';\n",
              "\n",
              "      buttonEl.onclick = () => {\n",
              "        google.colab.notebook.generateWithVariable('duplicate_rows_before');\n",
              "      }\n",
              "      })();\n",
              "    </script>\n",
              "  </div>\n",
              "\n",
              "    </div>\n",
              "  </div>\n"
            ],
            "application/vnd.google.colaboratory.intrinsic+json": {
              "type": "dataframe",
              "variable_name": "duplicate_rows_before",
              "summary": "{\n  \"name\": \"duplicate_rows_before\",\n  \"rows\": 0,\n  \"fields\": [\n    {\n      \"column\": \"Hours\",\n      \"properties\": {\n        \"dtype\": \"number\",\n        \"std\": null,\n        \"min\": null,\n        \"max\": null,\n        \"num_unique_values\": 0,\n        \"samples\": [],\n        \"semantic_type\": \"\",\n        \"description\": \"\"\n      }\n    },\n    {\n      \"column\": \"Scores\",\n      \"properties\": {\n        \"dtype\": \"number\",\n        \"std\": null,\n        \"min\": null,\n        \"max\": null,\n        \"num_unique_values\": 0,\n        \"samples\": [],\n        \"semantic_type\": \"\",\n        \"description\": \"\"\n      }\n    }\n  ]\n}"
            }
          },
          "metadata": {},
          "execution_count": 20
        }
      ]
    },
    {
      "cell_type": "code",
      "source": [
        "df = df.drop_duplicates()"
      ],
      "metadata": {
        "id": "YrZBUqTb-eYU"
      },
      "execution_count": null,
      "outputs": []
    },
    {
      "cell_type": "code",
      "source": [
        "print(\"\\nData Setelah Pemeriksaan Duplikat:\")\n",
        "print(df.shape)"
      ],
      "metadata": {
        "colab": {
          "base_uri": "https://localhost:8080/"
        },
        "id": "wc1D8uRo-kGj",
        "outputId": "46405677-6662-4da3-8163-803b0c841ba2"
      },
      "execution_count": null,
      "outputs": [
        {
          "output_type": "stream",
          "name": "stdout",
          "text": [
            "\n",
            "Data Setelah Pemeriksaan Duplikat:\n",
            "(25, 2)\n"
          ]
        }
      ]
    },
    {
      "cell_type": "code",
      "source": [
        "df.isna().sum()"
      ],
      "metadata": {
        "colab": {
          "base_uri": "https://localhost:8080/",
          "height": 147
        },
        "id": "dMsWH_pf-xK7",
        "outputId": "57b7ebea-1279-43ee-ff05-25ee31efb374"
      },
      "execution_count": null,
      "outputs": [
        {
          "output_type": "execute_result",
          "data": {
            "text/plain": [
              "Hours     0\n",
              "Scores    0\n",
              "dtype: int64"
            ],
            "text/html": [
              "<div>\n",
              "<style scoped>\n",
              "    .dataframe tbody tr th:only-of-type {\n",
              "        vertical-align: middle;\n",
              "    }\n",
              "\n",
              "    .dataframe tbody tr th {\n",
              "        vertical-align: top;\n",
              "    }\n",
              "\n",
              "    .dataframe thead th {\n",
              "        text-align: right;\n",
              "    }\n",
              "</style>\n",
              "<table border=\"1\" class=\"dataframe\">\n",
              "  <thead>\n",
              "    <tr style=\"text-align: right;\">\n",
              "      <th></th>\n",
              "      <th>0</th>\n",
              "    </tr>\n",
              "  </thead>\n",
              "  <tbody>\n",
              "    <tr>\n",
              "      <th>Hours</th>\n",
              "      <td>0</td>\n",
              "    </tr>\n",
              "    <tr>\n",
              "      <th>Scores</th>\n",
              "      <td>0</td>\n",
              "    </tr>\n",
              "  </tbody>\n",
              "</table>\n",
              "</div><br><label><b>dtype:</b> int64</label>"
            ]
          },
          "metadata": {},
          "execution_count": 23
        }
      ]
    },
    {
      "cell_type": "code",
      "source": [
        "import seaborn as sns\n",
        "import matplotlib.pyplot as pit\n",
        "#Outlier Analysis\n",
        "sns.boxplot(x=\"Hours\", data=df)\n",
        "# Menambahkan label sumbu dan judul\n",
        "plt.xlabel(\"Hours\")\n",
        "plt.ylabel(\"Scores\")\n",
        "plt.title(\"Boxplot Hours\")\n",
        "#Menampilkan plot\n",
        "plt.show()"
      ],
      "metadata": {
        "colab": {
          "base_uri": "https://localhost:8080/",
          "height": 472
        },
        "id": "EMYRyT8K_HFr",
        "outputId": "e8e8cc7c-e243-4116-beb8-4aaf8d1ed593"
      },
      "execution_count": null,
      "outputs": [
        {
          "output_type": "display_data",
          "data": {
            "text/plain": [
              "<Figure size 640x480 with 1 Axes>"
            ],
            "image/png": "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\n"
          },
          "metadata": {}
        }
      ]
    },
    {
      "cell_type": "code",
      "source": [
        "X = df['Hours']\n",
        "X.astype('float64')\n",
        "X.head()"
      ],
      "metadata": {
        "colab": {
          "base_uri": "https://localhost:8080/",
          "height": 241
        },
        "id": "8GTrsSV7_ifC",
        "outputId": "55c0a9f4-1ac1-4f00-ef4f-6e00a61c570d"
      },
      "execution_count": null,
      "outputs": [
        {
          "output_type": "execute_result",
          "data": {
            "text/plain": [
              "0    2.5\n",
              "1    5.1\n",
              "2    3.2\n",
              "3    8.5\n",
              "4    3.5\n",
              "Name: Hours, dtype: float64"
            ],
            "text/html": [
              "<div>\n",
              "<style scoped>\n",
              "    .dataframe tbody tr th:only-of-type {\n",
              "        vertical-align: middle;\n",
              "    }\n",
              "\n",
              "    .dataframe tbody tr th {\n",
              "        vertical-align: top;\n",
              "    }\n",
              "\n",
              "    .dataframe thead th {\n",
              "        text-align: right;\n",
              "    }\n",
              "</style>\n",
              "<table border=\"1\" class=\"dataframe\">\n",
              "  <thead>\n",
              "    <tr style=\"text-align: right;\">\n",
              "      <th></th>\n",
              "      <th>Hours</th>\n",
              "    </tr>\n",
              "  </thead>\n",
              "  <tbody>\n",
              "    <tr>\n",
              "      <th>0</th>\n",
              "      <td>2.5</td>\n",
              "    </tr>\n",
              "    <tr>\n",
              "      <th>1</th>\n",
              "      <td>5.1</td>\n",
              "    </tr>\n",
              "    <tr>\n",
              "      <th>2</th>\n",
              "      <td>3.2</td>\n",
              "    </tr>\n",
              "    <tr>\n",
              "      <th>3</th>\n",
              "      <td>8.5</td>\n",
              "    </tr>\n",
              "    <tr>\n",
              "      <th>4</th>\n",
              "      <td>3.5</td>\n",
              "    </tr>\n",
              "  </tbody>\n",
              "</table>\n",
              "</div><br><label><b>dtype:</b> float64</label>"
            ]
          },
          "metadata": {},
          "execution_count": 86
        }
      ]
    },
    {
      "cell_type": "code",
      "source": [
        "y = df['Scores']\n",
        "y = y.astype('float64')\n",
        "y.head()\n"
      ],
      "metadata": {
        "colab": {
          "base_uri": "https://localhost:8080/",
          "height": 241
        },
        "id": "CuDTstDX_88S",
        "outputId": "806d32f1-620d-4479-a324-4ecd93f1f666"
      },
      "execution_count": null,
      "outputs": [
        {
          "output_type": "execute_result",
          "data": {
            "text/plain": [
              "0    21.0\n",
              "1    47.0\n",
              "2    27.0\n",
              "3    75.0\n",
              "4    30.0\n",
              "Name: Scores, dtype: float64"
            ],
            "text/html": [
              "<div>\n",
              "<style scoped>\n",
              "    .dataframe tbody tr th:only-of-type {\n",
              "        vertical-align: middle;\n",
              "    }\n",
              "\n",
              "    .dataframe tbody tr th {\n",
              "        vertical-align: top;\n",
              "    }\n",
              "\n",
              "    .dataframe thead th {\n",
              "        text-align: right;\n",
              "    }\n",
              "</style>\n",
              "<table border=\"1\" class=\"dataframe\">\n",
              "  <thead>\n",
              "    <tr style=\"text-align: right;\">\n",
              "      <th></th>\n",
              "      <th>Scores</th>\n",
              "    </tr>\n",
              "  </thead>\n",
              "  <tbody>\n",
              "    <tr>\n",
              "      <th>0</th>\n",
              "      <td>21.0</td>\n",
              "    </tr>\n",
              "    <tr>\n",
              "      <th>1</th>\n",
              "      <td>47.0</td>\n",
              "    </tr>\n",
              "    <tr>\n",
              "      <th>2</th>\n",
              "      <td>27.0</td>\n",
              "    </tr>\n",
              "    <tr>\n",
              "      <th>3</th>\n",
              "      <td>75.0</td>\n",
              "    </tr>\n",
              "    <tr>\n",
              "      <th>4</th>\n",
              "      <td>30.0</td>\n",
              "    </tr>\n",
              "  </tbody>\n",
              "</table>\n",
              "</div><br><label><b>dtype:</b> float64</label>"
            ]
          },
          "metadata": {},
          "execution_count": 84
        }
      ]
    },
    {
      "cell_type": "code",
      "source": [
        "#Import machine learning data from scikit learn\n",
        "from sklearn.model_selection import train_test_split\n",
        "#Split the data for train and test\n",
        "#train: test 75 25 atau 80 20 atau 70:30 atau 85:15, size train > test\n",
        "X_train, X_test,y_train,y_test = train_test_split(X,y, train_size=0.75, random_state=42)\n",
        "#X_train dan y_train > knowledge dari dosen ke mahasiswa (X_train contoh soal), y_train (kunci jawaban dari contoh soal)\n",
        "#X_test dan y_test > soal ujian (UTS maupun UAS) (X_test), y_test (kunci jawaban dosennya / data aktual)"
      ],
      "metadata": {
        "id": "aVEj2_5BAPEZ"
      },
      "execution_count": null,
      "outputs": []
    },
    {
      "cell_type": "code",
      "execution_count": null,
      "metadata": {
        "colab": {
          "base_uri": "https://localhost:8080/",
          "height": 648
        },
        "id": "So68k7DpyYJ5",
        "outputId": "57271f92-b2a6-4d25-e8b0-a55f71835adc"
      },
      "outputs": [
        {
          "output_type": "execute_result",
          "data": {
            "text/plain": [
              "1     5.1\n",
              "22    3.8\n",
              "5     1.5\n",
              "2     3.2\n",
              "12    4.5\n",
              "15    8.9\n",
              "3     8.5\n",
              "4     3.5\n",
              "20    2.7\n",
              "17    1.9\n",
              "21    4.8\n",
              "18    6.1\n",
              "24    7.8\n",
              "7     5.5\n",
              "10    7.7\n",
              "14    1.1\n",
              "19    7.4\n",
              "6     9.2\n",
              "Name: Hours, dtype: float64"
            ],
            "text/html": [
              "<div>\n",
              "<style scoped>\n",
              "    .dataframe tbody tr th:only-of-type {\n",
              "        vertical-align: middle;\n",
              "    }\n",
              "\n",
              "    .dataframe tbody tr th {\n",
              "        vertical-align: top;\n",
              "    }\n",
              "\n",
              "    .dataframe thead th {\n",
              "        text-align: right;\n",
              "    }\n",
              "</style>\n",
              "<table border=\"1\" class=\"dataframe\">\n",
              "  <thead>\n",
              "    <tr style=\"text-align: right;\">\n",
              "      <th></th>\n",
              "      <th>Hours</th>\n",
              "    </tr>\n",
              "  </thead>\n",
              "  <tbody>\n",
              "    <tr>\n",
              "      <th>1</th>\n",
              "      <td>5.1</td>\n",
              "    </tr>\n",
              "    <tr>\n",
              "      <th>22</th>\n",
              "      <td>3.8</td>\n",
              "    </tr>\n",
              "    <tr>\n",
              "      <th>5</th>\n",
              "      <td>1.5</td>\n",
              "    </tr>\n",
              "    <tr>\n",
              "      <th>2</th>\n",
              "      <td>3.2</td>\n",
              "    </tr>\n",
              "    <tr>\n",
              "      <th>12</th>\n",
              "      <td>4.5</td>\n",
              "    </tr>\n",
              "    <tr>\n",
              "      <th>15</th>\n",
              "      <td>8.9</td>\n",
              "    </tr>\n",
              "    <tr>\n",
              "      <th>3</th>\n",
              "      <td>8.5</td>\n",
              "    </tr>\n",
              "    <tr>\n",
              "      <th>4</th>\n",
              "      <td>3.5</td>\n",
              "    </tr>\n",
              "    <tr>\n",
              "      <th>20</th>\n",
              "      <td>2.7</td>\n",
              "    </tr>\n",
              "    <tr>\n",
              "      <th>17</th>\n",
              "      <td>1.9</td>\n",
              "    </tr>\n",
              "    <tr>\n",
              "      <th>21</th>\n",
              "      <td>4.8</td>\n",
              "    </tr>\n",
              "    <tr>\n",
              "      <th>18</th>\n",
              "      <td>6.1</td>\n",
              "    </tr>\n",
              "    <tr>\n",
              "      <th>24</th>\n",
              "      <td>7.8</td>\n",
              "    </tr>\n",
              "    <tr>\n",
              "      <th>7</th>\n",
              "      <td>5.5</td>\n",
              "    </tr>\n",
              "    <tr>\n",
              "      <th>10</th>\n",
              "      <td>7.7</td>\n",
              "    </tr>\n",
              "    <tr>\n",
              "      <th>14</th>\n",
              "      <td>1.1</td>\n",
              "    </tr>\n",
              "    <tr>\n",
              "      <th>19</th>\n",
              "      <td>7.4</td>\n",
              "    </tr>\n",
              "    <tr>\n",
              "      <th>6</th>\n",
              "      <td>9.2</td>\n",
              "    </tr>\n",
              "  </tbody>\n",
              "</table>\n",
              "</div><br><label><b>dtype:</b> float64</label>"
            ]
          },
          "metadata": {},
          "execution_count": 88
        }
      ],
      "source": [
        "X_train\n"
      ]
    },
    {
      "cell_type": "code",
      "source": [
        "# Importing Linear Regression model from scikit learn\n",
        "from sklearn.linear_model import LinearRegression"
      ],
      "metadata": {
        "id": "e4fXWlmEiMio"
      },
      "execution_count": null,
      "outputs": []
    },
    {
      "cell_type": "code",
      "source": [
        "\n",
        "import numpy as np\n",
        "\n",
        "X_train = X_train[:, np.newaxis]\n",
        "X_test = X_test[:, np.newaxis]"
      ],
      "metadata": {
        "id": "T9GWa9CmiMgP"
      },
      "execution_count": null,
      "outputs": []
    },
    {
      "cell_type": "code",
      "source": [
        "print(type(X_train))"
      ],
      "metadata": {
        "colab": {
          "base_uri": "https://localhost:8080/"
        },
        "id": "e3eQ693-C9N2",
        "outputId": "94cd83f9-71f4-4d3d-aa80-259815e48f24"
      },
      "execution_count": null,
      "outputs": [
        {
          "output_type": "stream",
          "name": "stdout",
          "text": [
            "<class 'numpy.ndarray'>\n"
          ]
        }
      ]
    },
    {
      "cell_type": "code",
      "source": [
        "#array\n",
        "X_train"
      ],
      "metadata": {
        "colab": {
          "base_uri": "https://localhost:8080/"
        },
        "id": "gmWrcfHYDGzW",
        "outputId": "61156b2a-393e-4802-b314-0b1338d29b0a"
      },
      "execution_count": null,
      "outputs": [
        {
          "output_type": "execute_result",
          "data": {
            "text/plain": [
              "array([[[[5.1]]],\n",
              "\n",
              "\n",
              "       [[[3.8]]],\n",
              "\n",
              "\n",
              "       [[[1.5]]],\n",
              "\n",
              "\n",
              "       [[[3.2]]],\n",
              "\n",
              "\n",
              "       [[[4.5]]],\n",
              "\n",
              "\n",
              "       [[[8.9]]],\n",
              "\n",
              "\n",
              "       [[[8.5]]],\n",
              "\n",
              "\n",
              "       [[[3.5]]],\n",
              "\n",
              "\n",
              "       [[[2.7]]],\n",
              "\n",
              "\n",
              "       [[[1.9]]],\n",
              "\n",
              "\n",
              "       [[[4.8]]],\n",
              "\n",
              "\n",
              "       [[[6.1]]],\n",
              "\n",
              "\n",
              "       [[[7.8]]],\n",
              "\n",
              "\n",
              "       [[[5.5]]],\n",
              "\n",
              "\n",
              "       [[[7.7]]],\n",
              "\n",
              "\n",
              "       [[[1.1]]],\n",
              "\n",
              "\n",
              "       [[[7.4]]],\n",
              "\n",
              "\n",
              "       [[[9.2]]]])"
            ]
          },
          "metadata": {},
          "execution_count": 56
        }
      ]
    },
    {
      "cell_type": "markdown",
      "source": [],
      "metadata": {
        "id": "FASABkupC8_1"
      }
    },
    {
      "cell_type": "code",
      "source": [
        "X_test"
      ],
      "metadata": {
        "colab": {
          "base_uri": "https://localhost:8080/"
        },
        "id": "sSDFO4duD8Rk",
        "outputId": "0cca08f6-ada9-43a8-af50-270d1273dcb6"
      },
      "execution_count": null,
      "outputs": [
        {
          "output_type": "execute_result",
          "data": {
            "text/plain": [
              "array([[[[8.3]]],\n",
              "\n",
              "\n",
              "       [[[2.5]]],\n",
              "\n",
              "\n",
              "       [[[2.5]]],\n",
              "\n",
              "\n",
              "       [[[6.9]]],\n",
              "\n",
              "\n",
              "       [[[5.9]]],\n",
              "\n",
              "\n",
              "       [[[2.7]]],\n",
              "\n",
              "\n",
              "       [[[3.3]]]])"
            ]
          },
          "metadata": {},
          "execution_count": 60
        }
      ]
    },
    {
      "cell_type": "code",
      "source": [
        "\n",
        "y_train\n",
        "y.astype('float64')\n"
      ],
      "metadata": {
        "colab": {
          "base_uri": "https://localhost:8080/",
          "height": 868
        },
        "id": "T7SweRQQD-Lr",
        "outputId": "bcfd0933-fd2c-4f75-ebab-60311366ae33"
      },
      "execution_count": null,
      "outputs": [
        {
          "output_type": "execute_result",
          "data": {
            "text/plain": [
              "0     21.0\n",
              "1     47.0\n",
              "2     27.0\n",
              "3     75.0\n",
              "4     30.0\n",
              "5     20.0\n",
              "6     88.0\n",
              "7     60.0\n",
              "8     81.0\n",
              "9     25.0\n",
              "10    85.0\n",
              "11    62.0\n",
              "12    41.0\n",
              "13    42.0\n",
              "14    17.0\n",
              "15    95.0\n",
              "16    30.0\n",
              "17    24.0\n",
              "18    67.0\n",
              "19    69.0\n",
              "20    30.0\n",
              "21    54.0\n",
              "22    35.0\n",
              "23    76.0\n",
              "24    86.0\n",
              "Name: Scores, dtype: float64"
            ],
            "text/html": [
              "<div>\n",
              "<style scoped>\n",
              "    .dataframe tbody tr th:only-of-type {\n",
              "        vertical-align: middle;\n",
              "    }\n",
              "\n",
              "    .dataframe tbody tr th {\n",
              "        vertical-align: top;\n",
              "    }\n",
              "\n",
              "    .dataframe thead th {\n",
              "        text-align: right;\n",
              "    }\n",
              "</style>\n",
              "<table border=\"1\" class=\"dataframe\">\n",
              "  <thead>\n",
              "    <tr style=\"text-align: right;\">\n",
              "      <th></th>\n",
              "      <th>Scores</th>\n",
              "    </tr>\n",
              "  </thead>\n",
              "  <tbody>\n",
              "    <tr>\n",
              "      <th>0</th>\n",
              "      <td>21.0</td>\n",
              "    </tr>\n",
              "    <tr>\n",
              "      <th>1</th>\n",
              "      <td>47.0</td>\n",
              "    </tr>\n",
              "    <tr>\n",
              "      <th>2</th>\n",
              "      <td>27.0</td>\n",
              "    </tr>\n",
              "    <tr>\n",
              "      <th>3</th>\n",
              "      <td>75.0</td>\n",
              "    </tr>\n",
              "    <tr>\n",
              "      <th>4</th>\n",
              "      <td>30.0</td>\n",
              "    </tr>\n",
              "    <tr>\n",
              "      <th>5</th>\n",
              "      <td>20.0</td>\n",
              "    </tr>\n",
              "    <tr>\n",
              "      <th>6</th>\n",
              "      <td>88.0</td>\n",
              "    </tr>\n",
              "    <tr>\n",
              "      <th>7</th>\n",
              "      <td>60.0</td>\n",
              "    </tr>\n",
              "    <tr>\n",
              "      <th>8</th>\n",
              "      <td>81.0</td>\n",
              "    </tr>\n",
              "    <tr>\n",
              "      <th>9</th>\n",
              "      <td>25.0</td>\n",
              "    </tr>\n",
              "    <tr>\n",
              "      <th>10</th>\n",
              "      <td>85.0</td>\n",
              "    </tr>\n",
              "    <tr>\n",
              "      <th>11</th>\n",
              "      <td>62.0</td>\n",
              "    </tr>\n",
              "    <tr>\n",
              "      <th>12</th>\n",
              "      <td>41.0</td>\n",
              "    </tr>\n",
              "    <tr>\n",
              "      <th>13</th>\n",
              "      <td>42.0</td>\n",
              "    </tr>\n",
              "    <tr>\n",
              "      <th>14</th>\n",
              "      <td>17.0</td>\n",
              "    </tr>\n",
              "    <tr>\n",
              "      <th>15</th>\n",
              "      <td>95.0</td>\n",
              "    </tr>\n",
              "    <tr>\n",
              "      <th>16</th>\n",
              "      <td>30.0</td>\n",
              "    </tr>\n",
              "    <tr>\n",
              "      <th>17</th>\n",
              "      <td>24.0</td>\n",
              "    </tr>\n",
              "    <tr>\n",
              "      <th>18</th>\n",
              "      <td>67.0</td>\n",
              "    </tr>\n",
              "    <tr>\n",
              "      <th>19</th>\n",
              "      <td>69.0</td>\n",
              "    </tr>\n",
              "    <tr>\n",
              "      <th>20</th>\n",
              "      <td>30.0</td>\n",
              "    </tr>\n",
              "    <tr>\n",
              "      <th>21</th>\n",
              "      <td>54.0</td>\n",
              "    </tr>\n",
              "    <tr>\n",
              "      <th>22</th>\n",
              "      <td>35.0</td>\n",
              "    </tr>\n",
              "    <tr>\n",
              "      <th>23</th>\n",
              "      <td>76.0</td>\n",
              "    </tr>\n",
              "    <tr>\n",
              "      <th>24</th>\n",
              "      <td>86.0</td>\n",
              "    </tr>\n",
              "  </tbody>\n",
              "</table>\n",
              "</div><br><label><b>dtype:</b> float64</label>"
            ]
          },
          "metadata": {},
          "execution_count": 90
        }
      ]
    },
    {
      "cell_type": "code",
      "source": [
        "y_test\n",
        "y.astype('float64')"
      ],
      "metadata": {
        "colab": {
          "base_uri": "https://localhost:8080/",
          "height": 868
        },
        "id": "HLNbip6-EAIj",
        "outputId": "81edd3ff-4bd9-416d-922b-a1e6e3f405f8"
      },
      "execution_count": null,
      "outputs": [
        {
          "output_type": "execute_result",
          "data": {
            "text/plain": [
              "0     21.0\n",
              "1     47.0\n",
              "2     27.0\n",
              "3     75.0\n",
              "4     30.0\n",
              "5     20.0\n",
              "6     88.0\n",
              "7     60.0\n",
              "8     81.0\n",
              "9     25.0\n",
              "10    85.0\n",
              "11    62.0\n",
              "12    41.0\n",
              "13    42.0\n",
              "14    17.0\n",
              "15    95.0\n",
              "16    30.0\n",
              "17    24.0\n",
              "18    67.0\n",
              "19    69.0\n",
              "20    30.0\n",
              "21    54.0\n",
              "22    35.0\n",
              "23    76.0\n",
              "24    86.0\n",
              "Name: Scores, dtype: float64"
            ],
            "text/html": [
              "<div>\n",
              "<style scoped>\n",
              "    .dataframe tbody tr th:only-of-type {\n",
              "        vertical-align: middle;\n",
              "    }\n",
              "\n",
              "    .dataframe tbody tr th {\n",
              "        vertical-align: top;\n",
              "    }\n",
              "\n",
              "    .dataframe thead th {\n",
              "        text-align: right;\n",
              "    }\n",
              "</style>\n",
              "<table border=\"1\" class=\"dataframe\">\n",
              "  <thead>\n",
              "    <tr style=\"text-align: right;\">\n",
              "      <th></th>\n",
              "      <th>Scores</th>\n",
              "    </tr>\n",
              "  </thead>\n",
              "  <tbody>\n",
              "    <tr>\n",
              "      <th>0</th>\n",
              "      <td>21.0</td>\n",
              "    </tr>\n",
              "    <tr>\n",
              "      <th>1</th>\n",
              "      <td>47.0</td>\n",
              "    </tr>\n",
              "    <tr>\n",
              "      <th>2</th>\n",
              "      <td>27.0</td>\n",
              "    </tr>\n",
              "    <tr>\n",
              "      <th>3</th>\n",
              "      <td>75.0</td>\n",
              "    </tr>\n",
              "    <tr>\n",
              "      <th>4</th>\n",
              "      <td>30.0</td>\n",
              "    </tr>\n",
              "    <tr>\n",
              "      <th>5</th>\n",
              "      <td>20.0</td>\n",
              "    </tr>\n",
              "    <tr>\n",
              "      <th>6</th>\n",
              "      <td>88.0</td>\n",
              "    </tr>\n",
              "    <tr>\n",
              "      <th>7</th>\n",
              "      <td>60.0</td>\n",
              "    </tr>\n",
              "    <tr>\n",
              "      <th>8</th>\n",
              "      <td>81.0</td>\n",
              "    </tr>\n",
              "    <tr>\n",
              "      <th>9</th>\n",
              "      <td>25.0</td>\n",
              "    </tr>\n",
              "    <tr>\n",
              "      <th>10</th>\n",
              "      <td>85.0</td>\n",
              "    </tr>\n",
              "    <tr>\n",
              "      <th>11</th>\n",
              "      <td>62.0</td>\n",
              "    </tr>\n",
              "    <tr>\n",
              "      <th>12</th>\n",
              "      <td>41.0</td>\n",
              "    </tr>\n",
              "    <tr>\n",
              "      <th>13</th>\n",
              "      <td>42.0</td>\n",
              "    </tr>\n",
              "    <tr>\n",
              "      <th>14</th>\n",
              "      <td>17.0</td>\n",
              "    </tr>\n",
              "    <tr>\n",
              "      <th>15</th>\n",
              "      <td>95.0</td>\n",
              "    </tr>\n",
              "    <tr>\n",
              "      <th>16</th>\n",
              "      <td>30.0</td>\n",
              "    </tr>\n",
              "    <tr>\n",
              "      <th>17</th>\n",
              "      <td>24.0</td>\n",
              "    </tr>\n",
              "    <tr>\n",
              "      <th>18</th>\n",
              "      <td>67.0</td>\n",
              "    </tr>\n",
              "    <tr>\n",
              "      <th>19</th>\n",
              "      <td>69.0</td>\n",
              "    </tr>\n",
              "    <tr>\n",
              "      <th>20</th>\n",
              "      <td>30.0</td>\n",
              "    </tr>\n",
              "    <tr>\n",
              "      <th>21</th>\n",
              "      <td>54.0</td>\n",
              "    </tr>\n",
              "    <tr>\n",
              "      <th>22</th>\n",
              "      <td>35.0</td>\n",
              "    </tr>\n",
              "    <tr>\n",
              "      <th>23</th>\n",
              "      <td>76.0</td>\n",
              "    </tr>\n",
              "    <tr>\n",
              "      <th>24</th>\n",
              "      <td>86.0</td>\n",
              "    </tr>\n",
              "  </tbody>\n",
              "</table>\n",
              "</div><br><label><b>dtype:</b> float64</label>"
            ]
          },
          "metadata": {},
          "execution_count": 91
        }
      ]
    },
    {
      "cell_type": "code",
      "source": [
        "import numpy as np\n",
        "#man idk chat why is the code isnt workin\n",
        "\n",
        "# Convert to a NumPy array and reshape it to have one column\n",
        "X_train = np.array(X_train).reshape(-1, 1)\n",
        "X_test  = np.array(X_test).reshape(-1, 1)"
      ],
      "metadata": {
        "id": "zcyzT5DVHQLv"
      },
      "execution_count": null,
      "outputs": []
    },
    {
      "cell_type": "code",
      "source": [
        "lr_model = LinearRegression()\n",
        "lr_model.fit(X_train,y_train)"
      ],
      "metadata": {
        "colab": {
          "base_uri": "https://localhost:8080/",
          "height": 80
        },
        "id": "7ca1XLNdDXc8",
        "outputId": "1a7d254e-03ac-45cd-d98e-3b4c6c0e62c3"
      },
      "execution_count": null,
      "outputs": [
        {
          "output_type": "execute_result",
          "data": {
            "text/plain": [
              "LinearRegression()"
            ],
            "text/html": [
              "<style>#sk-container-id-3 {\n",
              "  /* Definition of color scheme common for light and dark mode */\n",
              "  --sklearn-color-text: #000;\n",
              "  --sklearn-color-text-muted: #666;\n",
              "  --sklearn-color-line: gray;\n",
              "  /* Definition of color scheme for unfitted estimators */\n",
              "  --sklearn-color-unfitted-level-0: #fff5e6;\n",
              "  --sklearn-color-unfitted-level-1: #f6e4d2;\n",
              "  --sklearn-color-unfitted-level-2: #ffe0b3;\n",
              "  --sklearn-color-unfitted-level-3: chocolate;\n",
              "  /* Definition of color scheme for fitted estimators */\n",
              "  --sklearn-color-fitted-level-0: #f0f8ff;\n",
              "  --sklearn-color-fitted-level-1: #d4ebff;\n",
              "  --sklearn-color-fitted-level-2: #b3dbfd;\n",
              "  --sklearn-color-fitted-level-3: cornflowerblue;\n",
              "\n",
              "  /* Specific color for light theme */\n",
              "  --sklearn-color-text-on-default-background: var(--sg-text-color, var(--theme-code-foreground, var(--jp-content-font-color1, black)));\n",
              "  --sklearn-color-background: var(--sg-background-color, var(--theme-background, var(--jp-layout-color0, white)));\n",
              "  --sklearn-color-border-box: var(--sg-text-color, var(--theme-code-foreground, var(--jp-content-font-color1, black)));\n",
              "  --sklearn-color-icon: #696969;\n",
              "\n",
              "  @media (prefers-color-scheme: dark) {\n",
              "    /* Redefinition of color scheme for dark theme */\n",
              "    --sklearn-color-text-on-default-background: var(--sg-text-color, var(--theme-code-foreground, var(--jp-content-font-color1, white)));\n",
              "    --sklearn-color-background: var(--sg-background-color, var(--theme-background, var(--jp-layout-color0, #111)));\n",
              "    --sklearn-color-border-box: var(--sg-text-color, var(--theme-code-foreground, var(--jp-content-font-color1, white)));\n",
              "    --sklearn-color-icon: #878787;\n",
              "  }\n",
              "}\n",
              "\n",
              "#sk-container-id-3 {\n",
              "  color: var(--sklearn-color-text);\n",
              "}\n",
              "\n",
              "#sk-container-id-3 pre {\n",
              "  padding: 0;\n",
              "}\n",
              "\n",
              "#sk-container-id-3 input.sk-hidden--visually {\n",
              "  border: 0;\n",
              "  clip: rect(1px 1px 1px 1px);\n",
              "  clip: rect(1px, 1px, 1px, 1px);\n",
              "  height: 1px;\n",
              "  margin: -1px;\n",
              "  overflow: hidden;\n",
              "  padding: 0;\n",
              "  position: absolute;\n",
              "  width: 1px;\n",
              "}\n",
              "\n",
              "#sk-container-id-3 div.sk-dashed-wrapped {\n",
              "  border: 1px dashed var(--sklearn-color-line);\n",
              "  margin: 0 0.4em 0.5em 0.4em;\n",
              "  box-sizing: border-box;\n",
              "  padding-bottom: 0.4em;\n",
              "  background-color: var(--sklearn-color-background);\n",
              "}\n",
              "\n",
              "#sk-container-id-3 div.sk-container {\n",
              "  /* jupyter's `normalize.less` sets `[hidden] { display: none; }`\n",
              "     but bootstrap.min.css set `[hidden] { display: none !important; }`\n",
              "     so we also need the `!important` here to be able to override the\n",
              "     default hidden behavior on the sphinx rendered scikit-learn.org.\n",
              "     See: https://github.com/scikit-learn/scikit-learn/issues/21755 */\n",
              "  display: inline-block !important;\n",
              "  position: relative;\n",
              "}\n",
              "\n",
              "#sk-container-id-3 div.sk-text-repr-fallback {\n",
              "  display: none;\n",
              "}\n",
              "\n",
              "div.sk-parallel-item,\n",
              "div.sk-serial,\n",
              "div.sk-item {\n",
              "  /* draw centered vertical line to link estimators */\n",
              "  background-image: linear-gradient(var(--sklearn-color-text-on-default-background), var(--sklearn-color-text-on-default-background));\n",
              "  background-size: 2px 100%;\n",
              "  background-repeat: no-repeat;\n",
              "  background-position: center center;\n",
              "}\n",
              "\n",
              "/* Parallel-specific style estimator block */\n",
              "\n",
              "#sk-container-id-3 div.sk-parallel-item::after {\n",
              "  content: \"\";\n",
              "  width: 100%;\n",
              "  border-bottom: 2px solid var(--sklearn-color-text-on-default-background);\n",
              "  flex-grow: 1;\n",
              "}\n",
              "\n",
              "#sk-container-id-3 div.sk-parallel {\n",
              "  display: flex;\n",
              "  align-items: stretch;\n",
              "  justify-content: center;\n",
              "  background-color: var(--sklearn-color-background);\n",
              "  position: relative;\n",
              "}\n",
              "\n",
              "#sk-container-id-3 div.sk-parallel-item {\n",
              "  display: flex;\n",
              "  flex-direction: column;\n",
              "}\n",
              "\n",
              "#sk-container-id-3 div.sk-parallel-item:first-child::after {\n",
              "  align-self: flex-end;\n",
              "  width: 50%;\n",
              "}\n",
              "\n",
              "#sk-container-id-3 div.sk-parallel-item:last-child::after {\n",
              "  align-self: flex-start;\n",
              "  width: 50%;\n",
              "}\n",
              "\n",
              "#sk-container-id-3 div.sk-parallel-item:only-child::after {\n",
              "  width: 0;\n",
              "}\n",
              "\n",
              "/* Serial-specific style estimator block */\n",
              "\n",
              "#sk-container-id-3 div.sk-serial {\n",
              "  display: flex;\n",
              "  flex-direction: column;\n",
              "  align-items: center;\n",
              "  background-color: var(--sklearn-color-background);\n",
              "  padding-right: 1em;\n",
              "  padding-left: 1em;\n",
              "}\n",
              "\n",
              "\n",
              "/* Toggleable style: style used for estimator/Pipeline/ColumnTransformer box that is\n",
              "clickable and can be expanded/collapsed.\n",
              "- Pipeline and ColumnTransformer use this feature and define the default style\n",
              "- Estimators will overwrite some part of the style using the `sk-estimator` class\n",
              "*/\n",
              "\n",
              "/* Pipeline and ColumnTransformer style (default) */\n",
              "\n",
              "#sk-container-id-3 div.sk-toggleable {\n",
              "  /* Default theme specific background. It is overwritten whether we have a\n",
              "  specific estimator or a Pipeline/ColumnTransformer */\n",
              "  background-color: var(--sklearn-color-background);\n",
              "}\n",
              "\n",
              "/* Toggleable label */\n",
              "#sk-container-id-3 label.sk-toggleable__label {\n",
              "  cursor: pointer;\n",
              "  display: flex;\n",
              "  width: 100%;\n",
              "  margin-bottom: 0;\n",
              "  padding: 0.5em;\n",
              "  box-sizing: border-box;\n",
              "  text-align: center;\n",
              "  align-items: start;\n",
              "  justify-content: space-between;\n",
              "  gap: 0.5em;\n",
              "}\n",
              "\n",
              "#sk-container-id-3 label.sk-toggleable__label .caption {\n",
              "  font-size: 0.6rem;\n",
              "  font-weight: lighter;\n",
              "  color: var(--sklearn-color-text-muted);\n",
              "}\n",
              "\n",
              "#sk-container-id-3 label.sk-toggleable__label-arrow:before {\n",
              "  /* Arrow on the left of the label */\n",
              "  content: \"▸\";\n",
              "  float: left;\n",
              "  margin-right: 0.25em;\n",
              "  color: var(--sklearn-color-icon);\n",
              "}\n",
              "\n",
              "#sk-container-id-3 label.sk-toggleable__label-arrow:hover:before {\n",
              "  color: var(--sklearn-color-text);\n",
              "}\n",
              "\n",
              "/* Toggleable content - dropdown */\n",
              "\n",
              "#sk-container-id-3 div.sk-toggleable__content {\n",
              "  max-height: 0;\n",
              "  max-width: 0;\n",
              "  overflow: hidden;\n",
              "  text-align: left;\n",
              "  /* unfitted */\n",
              "  background-color: var(--sklearn-color-unfitted-level-0);\n",
              "}\n",
              "\n",
              "#sk-container-id-3 div.sk-toggleable__content.fitted {\n",
              "  /* fitted */\n",
              "  background-color: var(--sklearn-color-fitted-level-0);\n",
              "}\n",
              "\n",
              "#sk-container-id-3 div.sk-toggleable__content pre {\n",
              "  margin: 0.2em;\n",
              "  border-radius: 0.25em;\n",
              "  color: var(--sklearn-color-text);\n",
              "  /* unfitted */\n",
              "  background-color: var(--sklearn-color-unfitted-level-0);\n",
              "}\n",
              "\n",
              "#sk-container-id-3 div.sk-toggleable__content.fitted pre {\n",
              "  /* unfitted */\n",
              "  background-color: var(--sklearn-color-fitted-level-0);\n",
              "}\n",
              "\n",
              "#sk-container-id-3 input.sk-toggleable__control:checked~div.sk-toggleable__content {\n",
              "  /* Expand drop-down */\n",
              "  max-height: 200px;\n",
              "  max-width: 100%;\n",
              "  overflow: auto;\n",
              "}\n",
              "\n",
              "#sk-container-id-3 input.sk-toggleable__control:checked~label.sk-toggleable__label-arrow:before {\n",
              "  content: \"▾\";\n",
              "}\n",
              "\n",
              "/* Pipeline/ColumnTransformer-specific style */\n",
              "\n",
              "#sk-container-id-3 div.sk-label input.sk-toggleable__control:checked~label.sk-toggleable__label {\n",
              "  color: var(--sklearn-color-text);\n",
              "  background-color: var(--sklearn-color-unfitted-level-2);\n",
              "}\n",
              "\n",
              "#sk-container-id-3 div.sk-label.fitted input.sk-toggleable__control:checked~label.sk-toggleable__label {\n",
              "  background-color: var(--sklearn-color-fitted-level-2);\n",
              "}\n",
              "\n",
              "/* Estimator-specific style */\n",
              "\n",
              "/* Colorize estimator box */\n",
              "#sk-container-id-3 div.sk-estimator input.sk-toggleable__control:checked~label.sk-toggleable__label {\n",
              "  /* unfitted */\n",
              "  background-color: var(--sklearn-color-unfitted-level-2);\n",
              "}\n",
              "\n",
              "#sk-container-id-3 div.sk-estimator.fitted input.sk-toggleable__control:checked~label.sk-toggleable__label {\n",
              "  /* fitted */\n",
              "  background-color: var(--sklearn-color-fitted-level-2);\n",
              "}\n",
              "\n",
              "#sk-container-id-3 div.sk-label label.sk-toggleable__label,\n",
              "#sk-container-id-3 div.sk-label label {\n",
              "  /* The background is the default theme color */\n",
              "  color: var(--sklearn-color-text-on-default-background);\n",
              "}\n",
              "\n",
              "/* On hover, darken the color of the background */\n",
              "#sk-container-id-3 div.sk-label:hover label.sk-toggleable__label {\n",
              "  color: var(--sklearn-color-text);\n",
              "  background-color: var(--sklearn-color-unfitted-level-2);\n",
              "}\n",
              "\n",
              "/* Label box, darken color on hover, fitted */\n",
              "#sk-container-id-3 div.sk-label.fitted:hover label.sk-toggleable__label.fitted {\n",
              "  color: var(--sklearn-color-text);\n",
              "  background-color: var(--sklearn-color-fitted-level-2);\n",
              "}\n",
              "\n",
              "/* Estimator label */\n",
              "\n",
              "#sk-container-id-3 div.sk-label label {\n",
              "  font-family: monospace;\n",
              "  font-weight: bold;\n",
              "  display: inline-block;\n",
              "  line-height: 1.2em;\n",
              "}\n",
              "\n",
              "#sk-container-id-3 div.sk-label-container {\n",
              "  text-align: center;\n",
              "}\n",
              "\n",
              "/* Estimator-specific */\n",
              "#sk-container-id-3 div.sk-estimator {\n",
              "  font-family: monospace;\n",
              "  border: 1px dotted var(--sklearn-color-border-box);\n",
              "  border-radius: 0.25em;\n",
              "  box-sizing: border-box;\n",
              "  margin-bottom: 0.5em;\n",
              "  /* unfitted */\n",
              "  background-color: var(--sklearn-color-unfitted-level-0);\n",
              "}\n",
              "\n",
              "#sk-container-id-3 div.sk-estimator.fitted {\n",
              "  /* fitted */\n",
              "  background-color: var(--sklearn-color-fitted-level-0);\n",
              "}\n",
              "\n",
              "/* on hover */\n",
              "#sk-container-id-3 div.sk-estimator:hover {\n",
              "  /* unfitted */\n",
              "  background-color: var(--sklearn-color-unfitted-level-2);\n",
              "}\n",
              "\n",
              "#sk-container-id-3 div.sk-estimator.fitted:hover {\n",
              "  /* fitted */\n",
              "  background-color: var(--sklearn-color-fitted-level-2);\n",
              "}\n",
              "\n",
              "/* Specification for estimator info (e.g. \"i\" and \"?\") */\n",
              "\n",
              "/* Common style for \"i\" and \"?\" */\n",
              "\n",
              ".sk-estimator-doc-link,\n",
              "a:link.sk-estimator-doc-link,\n",
              "a:visited.sk-estimator-doc-link {\n",
              "  float: right;\n",
              "  font-size: smaller;\n",
              "  line-height: 1em;\n",
              "  font-family: monospace;\n",
              "  background-color: var(--sklearn-color-background);\n",
              "  border-radius: 1em;\n",
              "  height: 1em;\n",
              "  width: 1em;\n",
              "  text-decoration: none !important;\n",
              "  margin-left: 0.5em;\n",
              "  text-align: center;\n",
              "  /* unfitted */\n",
              "  border: var(--sklearn-color-unfitted-level-1) 1pt solid;\n",
              "  color: var(--sklearn-color-unfitted-level-1);\n",
              "}\n",
              "\n",
              ".sk-estimator-doc-link.fitted,\n",
              "a:link.sk-estimator-doc-link.fitted,\n",
              "a:visited.sk-estimator-doc-link.fitted {\n",
              "  /* fitted */\n",
              "  border: var(--sklearn-color-fitted-level-1) 1pt solid;\n",
              "  color: var(--sklearn-color-fitted-level-1);\n",
              "}\n",
              "\n",
              "/* On hover */\n",
              "div.sk-estimator:hover .sk-estimator-doc-link:hover,\n",
              ".sk-estimator-doc-link:hover,\n",
              "div.sk-label-container:hover .sk-estimator-doc-link:hover,\n",
              ".sk-estimator-doc-link:hover {\n",
              "  /* unfitted */\n",
              "  background-color: var(--sklearn-color-unfitted-level-3);\n",
              "  color: var(--sklearn-color-background);\n",
              "  text-decoration: none;\n",
              "}\n",
              "\n",
              "div.sk-estimator.fitted:hover .sk-estimator-doc-link.fitted:hover,\n",
              ".sk-estimator-doc-link.fitted:hover,\n",
              "div.sk-label-container:hover .sk-estimator-doc-link.fitted:hover,\n",
              ".sk-estimator-doc-link.fitted:hover {\n",
              "  /* fitted */\n",
              "  background-color: var(--sklearn-color-fitted-level-3);\n",
              "  color: var(--sklearn-color-background);\n",
              "  text-decoration: none;\n",
              "}\n",
              "\n",
              "/* Span, style for the box shown on hovering the info icon */\n",
              ".sk-estimator-doc-link span {\n",
              "  display: none;\n",
              "  z-index: 9999;\n",
              "  position: relative;\n",
              "  font-weight: normal;\n",
              "  right: .2ex;\n",
              "  padding: .5ex;\n",
              "  margin: .5ex;\n",
              "  width: min-content;\n",
              "  min-width: 20ex;\n",
              "  max-width: 50ex;\n",
              "  color: var(--sklearn-color-text);\n",
              "  box-shadow: 2pt 2pt 4pt #999;\n",
              "  /* unfitted */\n",
              "  background: var(--sklearn-color-unfitted-level-0);\n",
              "  border: .5pt solid var(--sklearn-color-unfitted-level-3);\n",
              "}\n",
              "\n",
              ".sk-estimator-doc-link.fitted span {\n",
              "  /* fitted */\n",
              "  background: var(--sklearn-color-fitted-level-0);\n",
              "  border: var(--sklearn-color-fitted-level-3);\n",
              "}\n",
              "\n",
              ".sk-estimator-doc-link:hover span {\n",
              "  display: block;\n",
              "}\n",
              "\n",
              "/* \"?\"-specific style due to the `<a>` HTML tag */\n",
              "\n",
              "#sk-container-id-3 a.estimator_doc_link {\n",
              "  float: right;\n",
              "  font-size: 1rem;\n",
              "  line-height: 1em;\n",
              "  font-family: monospace;\n",
              "  background-color: var(--sklearn-color-background);\n",
              "  border-radius: 1rem;\n",
              "  height: 1rem;\n",
              "  width: 1rem;\n",
              "  text-decoration: none;\n",
              "  /* unfitted */\n",
              "  color: var(--sklearn-color-unfitted-level-1);\n",
              "  border: var(--sklearn-color-unfitted-level-1) 1pt solid;\n",
              "}\n",
              "\n",
              "#sk-container-id-3 a.estimator_doc_link.fitted {\n",
              "  /* fitted */\n",
              "  border: var(--sklearn-color-fitted-level-1) 1pt solid;\n",
              "  color: var(--sklearn-color-fitted-level-1);\n",
              "}\n",
              "\n",
              "/* On hover */\n",
              "#sk-container-id-3 a.estimator_doc_link:hover {\n",
              "  /* unfitted */\n",
              "  background-color: var(--sklearn-color-unfitted-level-3);\n",
              "  color: var(--sklearn-color-background);\n",
              "  text-decoration: none;\n",
              "}\n",
              "\n",
              "#sk-container-id-3 a.estimator_doc_link.fitted:hover {\n",
              "  /* fitted */\n",
              "  background-color: var(--sklearn-color-fitted-level-3);\n",
              "}\n",
              "</style><div id=\"sk-container-id-3\" class=\"sk-top-container\"><div class=\"sk-text-repr-fallback\"><pre>LinearRegression()</pre><b>In a Jupyter environment, please rerun this cell to show the HTML representation or trust the notebook. <br />On GitHub, the HTML representation is unable to render, please try loading this page with nbviewer.org.</b></div><div class=\"sk-container\" hidden><div class=\"sk-item\"><div class=\"sk-estimator fitted sk-toggleable\"><input class=\"sk-toggleable__control sk-hidden--visually\" id=\"sk-estimator-id-3\" type=\"checkbox\" checked><label for=\"sk-estimator-id-3\" class=\"sk-toggleable__label fitted sk-toggleable__label-arrow\"><div><div>LinearRegression</div></div><div><a class=\"sk-estimator-doc-link fitted\" rel=\"noreferrer\" target=\"_blank\" href=\"https://scikit-learn.org/1.6/modules/generated/sklearn.linear_model.LinearRegression.html\">?<span>Documentation for LinearRegression</span></a><span class=\"sk-estimator-doc-link fitted\">i<span>Fitted</span></span></div></label><div class=\"sk-toggleable__content fitted\"><pre>LinearRegression()</pre></div> </div></div></div></div>"
            ]
          },
          "metadata": {},
          "execution_count": 98
        }
      ]
    },
    {
      "cell_type": "code",
      "source": [
        "y_pred_train = lr_model.predict(X_train)\n",
        "y_pred_train"
      ],
      "metadata": {
        "colab": {
          "base_uri": "https://localhost:8080/"
        },
        "id": "EnRu-dFIHbpO",
        "outputId": "90df27e8-9469-4831-ff94-2c8bff1274fd"
      },
      "execution_count": null,
      "outputs": [
        {
          "output_type": "execute_result",
          "data": {
            "text/plain": [
              "array([52.02223727, 39.39391742, 17.05150538, 33.56546211, 46.19378196,\n",
              "       88.93578761, 85.05015073, 36.47968977, 28.70841601, 20.93714226,\n",
              "       49.10800962, 61.73632947, 78.25028619, 55.90787415, 77.27887697,\n",
              "       13.1658685 , 74.36464932, 91.85001526])"
            ]
          },
          "metadata": {},
          "execution_count": 100
        }
      ]
    },
    {
      "cell_type": "code",
      "source": [
        "y_train\n",
        "y.astype('float64')"
      ],
      "metadata": {
        "colab": {
          "base_uri": "https://localhost:8080/",
          "height": 868
        },
        "id": "6MUS8dERHzIG",
        "outputId": "b0b9329a-5689-4879-a4b6-51afb006ec55"
      },
      "execution_count": null,
      "outputs": [
        {
          "output_type": "execute_result",
          "data": {
            "text/plain": [
              "0     21.0\n",
              "1     47.0\n",
              "2     27.0\n",
              "3     75.0\n",
              "4     30.0\n",
              "5     20.0\n",
              "6     88.0\n",
              "7     60.0\n",
              "8     81.0\n",
              "9     25.0\n",
              "10    85.0\n",
              "11    62.0\n",
              "12    41.0\n",
              "13    42.0\n",
              "14    17.0\n",
              "15    95.0\n",
              "16    30.0\n",
              "17    24.0\n",
              "18    67.0\n",
              "19    69.0\n",
              "20    30.0\n",
              "21    54.0\n",
              "22    35.0\n",
              "23    76.0\n",
              "24    86.0\n",
              "Name: Scores, dtype: float64"
            ],
            "text/html": [
              "<div>\n",
              "<style scoped>\n",
              "    .dataframe tbody tr th:only-of-type {\n",
              "        vertical-align: middle;\n",
              "    }\n",
              "\n",
              "    .dataframe tbody tr th {\n",
              "        vertical-align: top;\n",
              "    }\n",
              "\n",
              "    .dataframe thead th {\n",
              "        text-align: right;\n",
              "    }\n",
              "</style>\n",
              "<table border=\"1\" class=\"dataframe\">\n",
              "  <thead>\n",
              "    <tr style=\"text-align: right;\">\n",
              "      <th></th>\n",
              "      <th>Scores</th>\n",
              "    </tr>\n",
              "  </thead>\n",
              "  <tbody>\n",
              "    <tr>\n",
              "      <th>0</th>\n",
              "      <td>21.0</td>\n",
              "    </tr>\n",
              "    <tr>\n",
              "      <th>1</th>\n",
              "      <td>47.0</td>\n",
              "    </tr>\n",
              "    <tr>\n",
              "      <th>2</th>\n",
              "      <td>27.0</td>\n",
              "    </tr>\n",
              "    <tr>\n",
              "      <th>3</th>\n",
              "      <td>75.0</td>\n",
              "    </tr>\n",
              "    <tr>\n",
              "      <th>4</th>\n",
              "      <td>30.0</td>\n",
              "    </tr>\n",
              "    <tr>\n",
              "      <th>5</th>\n",
              "      <td>20.0</td>\n",
              "    </tr>\n",
              "    <tr>\n",
              "      <th>6</th>\n",
              "      <td>88.0</td>\n",
              "    </tr>\n",
              "    <tr>\n",
              "      <th>7</th>\n",
              "      <td>60.0</td>\n",
              "    </tr>\n",
              "    <tr>\n",
              "      <th>8</th>\n",
              "      <td>81.0</td>\n",
              "    </tr>\n",
              "    <tr>\n",
              "      <th>9</th>\n",
              "      <td>25.0</td>\n",
              "    </tr>\n",
              "    <tr>\n",
              "      <th>10</th>\n",
              "      <td>85.0</td>\n",
              "    </tr>\n",
              "    <tr>\n",
              "      <th>11</th>\n",
              "      <td>62.0</td>\n",
              "    </tr>\n",
              "    <tr>\n",
              "      <th>12</th>\n",
              "      <td>41.0</td>\n",
              "    </tr>\n",
              "    <tr>\n",
              "      <th>13</th>\n",
              "      <td>42.0</td>\n",
              "    </tr>\n",
              "    <tr>\n",
              "      <th>14</th>\n",
              "      <td>17.0</td>\n",
              "    </tr>\n",
              "    <tr>\n",
              "      <th>15</th>\n",
              "      <td>95.0</td>\n",
              "    </tr>\n",
              "    <tr>\n",
              "      <th>16</th>\n",
              "      <td>30.0</td>\n",
              "    </tr>\n",
              "    <tr>\n",
              "      <th>17</th>\n",
              "      <td>24.0</td>\n",
              "    </tr>\n",
              "    <tr>\n",
              "      <th>18</th>\n",
              "      <td>67.0</td>\n",
              "    </tr>\n",
              "    <tr>\n",
              "      <th>19</th>\n",
              "      <td>69.0</td>\n",
              "    </tr>\n",
              "    <tr>\n",
              "      <th>20</th>\n",
              "      <td>30.0</td>\n",
              "    </tr>\n",
              "    <tr>\n",
              "      <th>21</th>\n",
              "      <td>54.0</td>\n",
              "    </tr>\n",
              "    <tr>\n",
              "      <th>22</th>\n",
              "      <td>35.0</td>\n",
              "    </tr>\n",
              "    <tr>\n",
              "      <th>23</th>\n",
              "      <td>76.0</td>\n",
              "    </tr>\n",
              "    <tr>\n",
              "      <th>24</th>\n",
              "      <td>86.0</td>\n",
              "    </tr>\n",
              "  </tbody>\n",
              "</table>\n",
              "</div><br><label><b>dtype:</b> float64</label>"
            ]
          },
          "metadata": {},
          "execution_count": 102
        }
      ]
    },
    {
      "cell_type": "code",
      "source": [
        "y_pred = lr_model.predict(X_test)"
      ],
      "metadata": {
        "id": "dX3RRBuiIOYW"
      },
      "execution_count": null,
      "outputs": []
    },
    {
      "cell_type": "code",
      "source": [
        "y_pred"
      ],
      "metadata": {
        "id": "XgDmKMtriMbQ",
        "colab": {
          "base_uri": "https://localhost:8080/"
        },
        "outputId": "ffe60818-200d-438d-fb75-8c7b18985002"
      },
      "execution_count": null,
      "outputs": [
        {
          "output_type": "execute_result",
          "data": {
            "text/plain": [
              "array([83.10733229, 26.76559757, 26.76559757, 69.50760322, 59.79351103,\n",
              "       28.70841601, 34.53687133])"
            ]
          },
          "metadata": {},
          "execution_count": 105
        }
      ]
    },
    {
      "cell_type": "code",
      "source": [
        "c= [i for i in range (1,len(y_test)+1,1)]\n",
        "plt.plot(c,y_test, color='r', linestyle='-', label='Actual Data')\n",
        "plt.plot(c,y_pred, color='b', linestyle='dashed', label='Prediction')\n",
        "plt.xlabel('Hours')\n",
        "plt.ylabel('Scores')\n",
        "plt.title('Prediction with Linear Regression')\n",
        "plt.legend()\n",
        "plt.show()"
      ],
      "metadata": {
        "colab": {
          "base_uri": "https://localhost:8080/",
          "height": 472
        },
        "id": "EnfAqDnqIlkt",
        "outputId": "be5656a9-00ef-4704-af63-7bc44444c80f"
      },
      "execution_count": null,
      "outputs": [
        {
          "output_type": "display_data",
          "data": {
            "text/plain": [
              "<Figure size 640x480 with 1 Axes>"
            ],
            "image/png": "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\n"
          },
          "metadata": {}
        }
      ]
    },
    {
      "cell_type": "code",
      "source": [
        "# Importing metrics for the evaluation of the model\n",
        "from sklearn.metrics import r2_score,mean_squared_error\n"
      ],
      "metadata": {
        "id": "ThO8VQyFI6X9"
      },
      "execution_count": null,
      "outputs": []
    },
    {
      "cell_type": "code",
      "source": [
        " # Calculate R square vale\n",
        "rsq = r2_score (y_test,y_pred)\n",
        "print('r square Linear Regression:', rsq)\n"
      ],
      "metadata": {
        "colab": {
          "base_uri": "https://localhost:8080/"
        },
        "id": "jjzLaJc6JTEs",
        "outputId": "66f1131e-d3c3-4eb9-a113-2117197f2440"
      },
      "execution_count": null,
      "outputs": [
        {
          "output_type": "stream",
          "name": "stdout",
          "text": [
            "r square Linear Regression: 0.9553509219739938\n"
          ]
        }
      ]
    },
    {
      "cell_type": "code",
      "source": [
        "#Intecept and coeff of the line\n",
        "print('Intercept of the Linear Regression model:',lr_model.intercept_)\n",
        "print('Coefficient of the line Linear Regression:', lr_model.coef_)"
      ],
      "metadata": {
        "colab": {
          "base_uri": "https://localhost:8080/"
        },
        "id": "nImwby_ZJVo7",
        "outputId": "e5008386-cb91-4964-a68d-b01026135a83"
      },
      "execution_count": null,
      "outputs": [
        {
          "output_type": "stream",
          "name": "stdout",
          "text": [
            "Intercept of the Linear Regression model: 2.4803670915057623\n",
            "Coefficient of the line Linear Regression: [9.71409219]\n"
          ]
        }
      ]
    },
    {
      "cell_type": "markdown",
      "source": [
        "y = 2.48 + 9.714 x"
      ],
      "metadata": {
        "id": "peVIaoInL5zo"
      }
    },
    {
      "cell_type": "code",
      "source": [
        "\n",
        "X_test"
      ],
      "metadata": {
        "colab": {
          "base_uri": "https://localhost:8080/"
        },
        "id": "aXQT9evYMrl3",
        "outputId": "244d00d4-5800-4c37-e6b9-37fcf0befad6"
      },
      "execution_count": null,
      "outputs": [
        {
          "output_type": "execute_result",
          "data": {
            "text/plain": [
              "array([[8.3],\n",
              "       [2.5],\n",
              "       [2.5],\n",
              "       [6.9],\n",
              "       [5.9],\n",
              "       [2.7],\n",
              "       [3.3]])"
            ]
          },
          "metadata": {},
          "execution_count": 123
        }
      ]
    },
    {
      "cell_type": "code",
      "source": [
        "#y_test = ?\n",
        "#x_test =  8.3\n",
        "#y 25478.12 + 9731.016 *  8.3\n",
        "nilai_y = 2.48 + 9.714 *  8.3\n",
        "print('nilai y', nilai_y)"
      ],
      "metadata": {
        "colab": {
          "base_uri": "https://localhost:8080/"
        },
        "id": "17TDsBlAJ8BT",
        "outputId": "64e1553e-4f33-4add-d36f-2549d3812bf3"
      },
      "execution_count": null,
      "outputs": [
        {
          "output_type": "stream",
          "name": "stdout",
          "text": [
            "nilai y 83.10620000000002\n"
          ]
        }
      ]
    },
    {
      "cell_type": "code",
      "source": [
        "X_test"
      ],
      "metadata": {
        "id": "ME_boq5NiMdw",
        "colab": {
          "base_uri": "https://localhost:8080/"
        },
        "outputId": "e65dedbd-b0c3-466d-d46b-669dcbe5159a"
      },
      "execution_count": null,
      "outputs": [
        {
          "output_type": "execute_result",
          "data": {
            "text/plain": [
              "array([[8.3],\n",
              "       [2.5],\n",
              "       [2.5],\n",
              "       [6.9],\n",
              "       [5.9],\n",
              "       [2.7],\n",
              "       [3.3]])"
            ]
          },
          "metadata": {},
          "execution_count": 104
        }
      ]
    },
    {
      "cell_type": "code",
      "source": [
        "from sklearn.tree import DecisionTreeRegressor # mahasiswa B\n",
        "dt_model = DecisionTreeRegressor()\n",
        "dt_model.fit(X_train, y_train)\n",
        "\n",
        "y_pred_dt = dt_model.predict(X_test)"
      ],
      "metadata": {
        "id": "kQAhZURYKuqr"
      },
      "execution_count": null,
      "outputs": []
    },
    {
      "cell_type": "code",
      "source": [
        "y_pred_dt"
      ],
      "metadata": {
        "colab": {
          "base_uri": "https://localhost:8080/"
        },
        "id": "4nBQ7X-EN9CX",
        "outputId": "8f3d5fee-5575-455e-90c3-87e721a64717"
      },
      "execution_count": null,
      "outputs": [
        {
          "output_type": "execute_result",
          "data": {
            "text/plain": [
              "array([75., 30., 30., 69., 67., 30., 27.])"
            ]
          },
          "metadata": {},
          "execution_count": 134
        }
      ]
    },
    {
      "cell_type": "code",
      "source": [
        "y_test\n"
      ],
      "metadata": {
        "colab": {
          "base_uri": "https://localhost:8080/",
          "height": 303
        },
        "id": "VA1XURcmN-0-",
        "outputId": "880a80ed-c81c-4f29-8ef7-62f01d841065"
      },
      "execution_count": null,
      "outputs": [
        {
          "output_type": "execute_result",
          "data": {
            "text/plain": [
              "8     81\n",
              "16    30\n",
              "0     21\n",
              "23    76\n",
              "11    62\n",
              "9     25\n",
              "13    42\n",
              "Name: Scores, dtype: int64"
            ],
            "text/html": [
              "<div>\n",
              "<style scoped>\n",
              "    .dataframe tbody tr th:only-of-type {\n",
              "        vertical-align: middle;\n",
              "    }\n",
              "\n",
              "    .dataframe tbody tr th {\n",
              "        vertical-align: top;\n",
              "    }\n",
              "\n",
              "    .dataframe thead th {\n",
              "        text-align: right;\n",
              "    }\n",
              "</style>\n",
              "<table border=\"1\" class=\"dataframe\">\n",
              "  <thead>\n",
              "    <tr style=\"text-align: right;\">\n",
              "      <th></th>\n",
              "      <th>Scores</th>\n",
              "    </tr>\n",
              "  </thead>\n",
              "  <tbody>\n",
              "    <tr>\n",
              "      <th>8</th>\n",
              "      <td>81</td>\n",
              "    </tr>\n",
              "    <tr>\n",
              "      <th>16</th>\n",
              "      <td>30</td>\n",
              "    </tr>\n",
              "    <tr>\n",
              "      <th>0</th>\n",
              "      <td>21</td>\n",
              "    </tr>\n",
              "    <tr>\n",
              "      <th>23</th>\n",
              "      <td>76</td>\n",
              "    </tr>\n",
              "    <tr>\n",
              "      <th>11</th>\n",
              "      <td>62</td>\n",
              "    </tr>\n",
              "    <tr>\n",
              "      <th>9</th>\n",
              "      <td>25</td>\n",
              "    </tr>\n",
              "    <tr>\n",
              "      <th>13</th>\n",
              "      <td>42</td>\n",
              "    </tr>\n",
              "  </tbody>\n",
              "</table>\n",
              "</div><br><label><b>dtype:</b> int64</label>"
            ]
          },
          "metadata": {},
          "execution_count": 138
        }
      ]
    },
    {
      "cell_type": "code",
      "source": [
        "c= [i for i in range (1,len(y_test)+1,1)]\n",
        "plt.plot(c,y_test, color='r', linestyle='-', label='Actual Data')\n",
        "plt.plot(c,y_pred_dt,color='b', linestyle='dashed', label='Prediction')\n",
        "plt.xlabel('Hours')\n",
        "plt.ylabel('Scores')\n",
        "plt.title('Prediction with Decision Tree')\n",
        "plt.legend()\n",
        "plt.show()\n"
      ],
      "metadata": {
        "colab": {
          "base_uri": "https://localhost:8080/",
          "height": 472
        },
        "id": "JYoaeKotOPqN",
        "outputId": "e4f45750-34a6-4e5a-ee67-5e8a12d6535b"
      },
      "execution_count": null,
      "outputs": [
        {
          "output_type": "display_data",
          "data": {
            "text/plain": [
              "<Figure size 640x480 with 1 Axes>"
            ],
            "image/png": "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\n"
          },
          "metadata": {}
        }
      ]
    },
    {
      "cell_type": "code",
      "source": [
        "rsq_dt = r2_score(y_test,y_pred_dt)\n",
        "\n",
        "print('r Square Decision Tree Result : ',rsq_dt)"
      ],
      "metadata": {
        "colab": {
          "base_uri": "https://localhost:8080/"
        },
        "id": "bpz7IunkOpU2",
        "outputId": "962360e6-968a-4c13-cb7c-4af143d730d9"
      },
      "execution_count": null,
      "outputs": [
        {
          "output_type": "stream",
          "name": "stdout",
          "text": [
            "r Square Decision Tree Result :  0.8803859268443893\n"
          ]
        }
      ]
    },
    {
      "cell_type": "markdown",
      "source": [
        "4. Secara keseluruhan, model Linear Regression yang digunakan menunjukkan performa yang sangat baik. Dengan nilai R-squared sebesar 0,9553, model mampu menjelaskan sebagian besar variabilitas data, sedangkan nilai RMSE yang rendah (0,8804) mengindikasikan bahwa prediksi model mendekati nilai aktual. Jadi, kedua metrik ini mendukung bahwa model yang digunakan memiliki kinerja yang optimal dalam memprediksi data.\n",
        "\n",
        "5. lebih baik linear regression karena mendekati anga 1 value rmse nya"
      ],
      "metadata": {
        "id": "-GNQ_6jSPNDr"
      }
    }
  ],
  "metadata": {
    "colab": {
      "provenance": []
    },
    "kernelspec": {
      "display_name": "Python 3",
      "name": "python3"
    },
    "language_info": {
      "name": "python"
    }
  },
  "nbformat": 4,
  "nbformat_minor": 0
}
